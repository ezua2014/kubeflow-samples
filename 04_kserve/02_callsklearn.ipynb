{
 "cells": [
  {
   "cell_type": "raw",
   "id": "b71124ce-798b-441c-bbcf-ce356bd8c199",
   "metadata": {
    "tags": []
   },
   "source": [
    "### iris-example.yaml\n",
    "```\n",
    "apiVersion: \"serving.kserve.io/v1beta1\"\n",
    "kind: \"InferenceService\"\n",
    "metadata:\n",
    "  name: \"sklearn-iris\"\n",
    "  annotations:\n",
    "    sidecar.istio.io/inject: \"false\"\n",
    "spec:\n",
    "  predictor:\n",
    "    model:\n",
    "      modelFormat:\n",
    "        name: sklearn\n",
    "      storageUri: \"gs://kfserving-examples/models/sklearn/1.0/model\"\n",
    "\n",
    "``\n",
    "\n",
    "### iris-request.yaml\n",
    "```\n",
    "{\n",
    "    \"instances\": [\n",
    "      [6.8,  2.8,  4.8,  1.4],\n",
    "      [6.0,  3.4,  4.5,  1.6]\n",
    "    ]\n",
    "}\n",
    "```"
   ]
  },
  {
   "cell_type": "code",
   "execution_count": 3,
   "id": "2404f453-3460-41d9-b5af-c6cdc320fcf2",
   "metadata": {
    "tags": []
   },
   "outputs": [],
   "source": [
    "import warnings\n",
    "warnings.filterwarnings(\"ignore\")"
   ]
  },
  {
   "cell_type": "code",
   "execution_count": 4,
   "id": "cf96808d-ba11-4289-92a5-bc9499f8e39c",
   "metadata": {
    "tags": []
   },
   "outputs": [],
   "source": [
    "from kserve import (\n",
    "    KServeClient,\n",
    "    utils\n",
    ")\n",
    "from kubernetes import client "
   ]
  },
  {
   "cell_type": "code",
   "execution_count": 5,
   "id": "bfb091f0-c71a-4be0-b2fa-bd9030283fda",
   "metadata": {
    "tags": []
   },
   "outputs": [
    {
     "name": "stdout",
     "output_type": "stream",
     "text": [
      "NAME          READY      PREV    LATEST  URL\n",
      "sklearn-iris  True          0       100  https://sklearn-iris-predictor.demo1.ezua.ksi.local\n"
     ]
    }
   ],
   "source": [
    "namespace = utils.get_default_target_namespace()\n",
    "service_name = \"sklearn-iris\"\n",
    "KServe = KServeClient()\n",
    "KServe.get(service_name, namespace=namespace, watch=True, timeout_seconds=120)\n",
    "isvc_resp=KServe.get(service_name, namespace=namespace)"
   ]
  },
  {
   "cell_type": "code",
   "execution_count": 6,
   "id": "a09399f3-89e2-4cb6-8338-c6bc2073e468",
   "metadata": {
    "tags": []
   },
   "outputs": [
    {
     "data": {
      "text/plain": [
       "{'apiVersion': 'serving.kserve.io/v1beta1',\n",
       " 'kind': 'InferenceService',\n",
       " 'metadata': {'annotations': {'sidecar.istio.io/inject': 'false'},\n",
       "  'creationTimestamp': '2024-04-04T06:47:59Z',\n",
       "  'finalizers': ['inferenceservice.finalizers'],\n",
       "  'generation': 1,\n",
       "  'managedFields': [{'apiVersion': 'serving.kserve.io/v1beta1',\n",
       "    'fieldsType': 'FieldsV1',\n",
       "    'fieldsV1': {'f:metadata': {'f:annotations': {'.': {},\n",
       "       'f:sidecar.istio.io/inject': {}}},\n",
       "     'f:spec': {'.': {},\n",
       "      'f:predictor': {'.': {},\n",
       "       'f:model': {'.': {},\n",
       "        'f:modelFormat': {'.': {}, 'f:name': {}},\n",
       "        'f:storageUri': {}}}}},\n",
       "    'manager': 'OpenAPI-Generator',\n",
       "    'operation': 'Update',\n",
       "    'time': '2024-04-04T06:47:56Z'},\n",
       "   {'apiVersion': 'serving.kserve.io/v1beta1',\n",
       "    'fieldsType': 'FieldsV1',\n",
       "    'fieldsV1': {'f:metadata': {'f:finalizers': {'.': {},\n",
       "       'v:\"inferenceservice.finalizers\"': {}}}},\n",
       "    'manager': 'manager',\n",
       "    'operation': 'Update',\n",
       "    'time': '2024-04-04T06:47:59Z'},\n",
       "   {'apiVersion': 'serving.kserve.io/v1beta1',\n",
       "    'fieldsType': 'FieldsV1',\n",
       "    'fieldsV1': {'f:status': {'.': {},\n",
       "      'f:address': {'.': {}, 'f:url': {}},\n",
       "      'f:components': {'.': {},\n",
       "       'f:predictor': {'.': {},\n",
       "        'f:address': {'.': {}, 'f:url': {}},\n",
       "        'f:latestCreatedRevision': {},\n",
       "        'f:latestReadyRevision': {},\n",
       "        'f:latestRolledoutRevision': {},\n",
       "        'f:traffic': {},\n",
       "        'f:url': {}}},\n",
       "      'f:conditions': {},\n",
       "      'f:modelStatus': {'.': {},\n",
       "       'f:copies': {'.': {}, 'f:failedCopies': {}, 'f:totalCopies': {}},\n",
       "       'f:states': {'.': {},\n",
       "        'f:activeModelState': {},\n",
       "        'f:targetModelState': {}},\n",
       "       'f:transitionStatus': {}},\n",
       "      'f:observedGeneration': {},\n",
       "      'f:url': {}}},\n",
       "    'manager': 'manager',\n",
       "    'operation': 'Update',\n",
       "    'subresource': 'status',\n",
       "    'time': '2024-04-04T06:48:36Z'}],\n",
       "  'name': 'sklearn-iris',\n",
       "  'namespace': 'demo1',\n",
       "  'resourceVersion': '8503017',\n",
       "  'uid': '40981691-0b89-42cf-b7e1-1ad468ef5d7b'},\n",
       " 'spec': {'predictor': {'model': {'modelFormat': {'name': 'sklearn'},\n",
       "    'name': '',\n",
       "    'resources': {},\n",
       "    'storageUri': 'gs://kfserving-examples/models/sklearn/1.0/model'}}},\n",
       " 'status': {'address': {'url': 'http://sklearn-iris-predictor.demo1.svc.cluster.local'},\n",
       "  'components': {'predictor': {'address': {'url': 'http://sklearn-iris-predictor.demo1.svc.cluster.local'},\n",
       "    'latestCreatedRevision': 'sklearn-iris-predictor-00001',\n",
       "    'latestReadyRevision': 'sklearn-iris-predictor-00001',\n",
       "    'latestRolledoutRevision': 'sklearn-iris-predictor-00001',\n",
       "    'traffic': [{'latestRevision': True,\n",
       "      'percent': 100,\n",
       "      'revisionName': 'sklearn-iris-predictor-00001'}],\n",
       "    'url': 'https://sklearn-iris-predictor.demo1.ezua.ksi.local'}},\n",
       "  'conditions': [{'lastTransitionTime': '2024-04-04T06:48:36Z',\n",
       "    'status': 'True',\n",
       "    'type': 'IngressReady'},\n",
       "   {'lastTransitionTime': '2024-04-04T06:48:35Z',\n",
       "    'severity': 'Info',\n",
       "    'status': 'True',\n",
       "    'type': 'LatestDeploymentReady'},\n",
       "   {'lastTransitionTime': '2024-04-04T06:48:35Z',\n",
       "    'severity': 'Info',\n",
       "    'status': 'True',\n",
       "    'type': 'PredictorConfigurationReady'},\n",
       "   {'lastTransitionTime': '2024-04-04T06:48:36Z',\n",
       "    'status': 'True',\n",
       "    'type': 'PredictorReady'},\n",
       "   {'lastTransitionTime': '2024-04-04T06:48:36Z',\n",
       "    'severity': 'Info',\n",
       "    'status': 'True',\n",
       "    'type': 'PredictorRouteReady'},\n",
       "   {'lastTransitionTime': '2024-04-04T06:48:36Z',\n",
       "    'status': 'True',\n",
       "    'type': 'Ready'},\n",
       "   {'lastTransitionTime': '2024-04-04T06:48:36Z',\n",
       "    'severity': 'Info',\n",
       "    'status': 'True',\n",
       "    'type': 'RoutesReady'}],\n",
       "  'modelStatus': {'copies': {'failedCopies': 0, 'totalCopies': 1},\n",
       "   'states': {'activeModelState': 'Loaded', 'targetModelState': 'Loaded'},\n",
       "   'transitionStatus': 'UpToDate'},\n",
       "  'observedGeneration': 1,\n",
       "  'url': 'https://sklearn-iris-predictor.demo1.ezua.ksi.local'}}"
      ]
     },
     "execution_count": 6,
     "metadata": {},
     "output_type": "execute_result"
    }
   ],
   "source": [
    "isvc_resp"
   ]
  },
  {
   "cell_type": "code",
   "execution_count": 7,
   "id": "7322f1b1-b8aa-4023-b120-651173344ff9",
   "metadata": {
    "tags": []
   },
   "outputs": [
    {
     "name": "stdout",
     "output_type": "stream",
     "text": [
      "http://sklearn-iris-predictor.demo1.svc.cluster.local\n"
     ]
    }
   ],
   "source": [
    "import requests\n",
    "isvc_url = isvc_resp['status']['address']['url']\n",
    "print(isvc_url)"
   ]
  },
  {
   "cell_type": "code",
   "execution_count": 8,
   "id": "5466a238-6f5c-4fcb-a816-1266f618103e",
   "metadata": {
    "tags": []
   },
   "outputs": [],
   "source": [
    "sklearn_iris_input={\n",
    "    \"instances\": [\n",
    "      [6.8,  2.8,  4.8,  1.4],\n",
    "      [6.0,  3.4,  4.5,  1.6]\n",
    "    ]\n",
    "}"
   ]
  },
  {
   "cell_type": "code",
   "execution_count": 9,
   "id": "e499d3f9-5e5f-4656-9664-15204b26a102",
   "metadata": {
    "tags": []
   },
   "outputs": [
    {
     "name": "stdout",
     "output_type": "stream",
     "text": [
      "{\"predictions\":[1,1]}\n"
     ]
    }
   ],
   "source": [
    "ver_info = '/v1/models/'\n",
    "operaton = ':predict'\n",
    "rsvc_url = isvc_url + ver_info + service_name + operaton\n",
    "\n",
    "response = requests.post(rsvc_url, json=sklearn_iris_input)\n",
    "print(response.text)"
   ]
  },
  {
   "cell_type": "code",
   "execution_count": null,
   "id": "eacea725-4006-411f-8d1b-16b0ccf182d3",
   "metadata": {},
   "outputs": [],
   "source": []
  }
 ],
 "metadata": {
  "kernelspec": {
   "display_name": "Python 3 (ipykernel)",
   "language": "python",
   "name": "python3"
  },
  "language_info": {
   "codemirror_mode": {
    "name": "ipython",
    "version": 3
   },
   "file_extension": ".py",
   "mimetype": "text/x-python",
   "name": "python",
   "nbconvert_exporter": "python",
   "pygments_lexer": "ipython3",
   "version": "3.11.6"
  }
 },
 "nbformat": 4,
 "nbformat_minor": 5
}
