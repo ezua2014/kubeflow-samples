{
 "cells": [
  {
   "cell_type": "raw",
   "id": "b71124ce-798b-441c-bbcf-ce356bd8c199",
   "metadata": {
    "tags": []
   },
   "source": [
    "### iris-example.yaml\n",
    "```\n",
    "apiVersion: \"serving.kserve.io/v1beta1\"\n",
    "kind: \"InferenceService\"\n",
    "metadata:\n",
    "  name: \"sklearn-iris\"\n",
    "  annotations:\n",
    "    sidecar.istio.io/inject: \"false\"\n",
    "spec:\n",
    "  predictor:\n",
    "    model:\n",
    "      modelFormat:\n",
    "        name: sklearn\n",
    "      storageUri: \"gs://kfserving-examples/models/sklearn/1.0/model\"\n",
    "\n",
    "``\n",
    "\n",
    "### iris-request.yaml\n",
    "```\n",
    "{\n",
    "    \"instances\": [\n",
    "      [6.8,  2.8,  4.8,  1.4],\n",
    "      [6.0,  3.4,  4.5,  1.6]\n",
    "    ]\n",
    "}\n",
    "```"
   ]
  },
  {
   "cell_type": "code",
   "execution_count": null,
   "id": "2404f453-3460-41d9-b5af-c6cdc320fcf2",
   "metadata": {
    "tags": []
   },
   "outputs": [],
   "source": [
    "import warnings\n",
    "warnings.filterwarnings(\"ignore\")"
   ]
  },
  {
   "cell_type": "code",
   "execution_count": null,
   "id": "cf96808d-ba11-4289-92a5-bc9499f8e39c",
   "metadata": {
    "tags": []
   },
   "outputs": [],
   "source": [
    "from kserve import (\n",
    "    KServeClient,\n",
    "    utils\n",
    ")\n",
    "from kubernetes import client "
   ]
  },
  {
   "cell_type": "code",
   "execution_count": null,
   "id": "bfb091f0-c71a-4be0-b2fa-bd9030283fda",
   "metadata": {
    "tags": []
   },
   "outputs": [],
   "source": [
    "namespace = utils.get_default_target_namespace()\n",
    "service_name = \"sklearn-iris-student99\"\n",
    "KServe = KServeClient()\n",
    "KServe.get(service_name, namespace=namespace, watch=True, timeout_seconds=120)\n",
    "isvc_resp=KServe.get(service_name, namespace=namespace)"
   ]
  },
  {
   "cell_type": "code",
   "execution_count": null,
   "id": "a09399f3-89e2-4cb6-8338-c6bc2073e468",
   "metadata": {
    "tags": []
   },
   "outputs": [],
   "source": [
    "\n",
    "isvc_resp"
   ]
  },
  {
   "cell_type": "code",
   "execution_count": null,
   "id": "7322f1b1-b8aa-4023-b120-651173344ff9",
   "metadata": {
    "tags": []
   },
   "outputs": [],
   "source": [
    "import requests\n",
    "isvc_url = isvc_resp['status']['address']['url']\n",
    "print(isvc_url)"
   ]
  },
  {
   "cell_type": "code",
   "execution_count": null,
   "id": "5466a238-6f5c-4fcb-a816-1266f618103e",
   "metadata": {
    "tags": []
   },
   "outputs": [],
   "source": [
    "sklearn_iris_input={\n",
    "    \"instances\": [\n",
    "      [6.8,  2.8,  4.8,  1.4],\n",
    "      [6.0,  3.4,  4.5,  1.6]\n",
    "    ]\n",
    "}"
   ]
  },
  {
   "cell_type": "code",
   "execution_count": null,
   "id": "e499d3f9-5e5f-4656-9664-15204b26a102",
   "metadata": {
    "tags": []
   },
   "outputs": [],
   "source": [
    "ver_info = '/v1/models/'\n",
    "operaton = ':predict'\n",
    "rsvc_url = isvc_url + ver_info + service_name + operaton\n",
    "\n",
    "response = requests.post(rsvc_url, json=sklearn_iris_input)\n",
    "print(response.text)"
   ]
  },
  {
   "cell_type": "code",
   "execution_count": null,
   "id": "eacea725-4006-411f-8d1b-16b0ccf182d3",
   "metadata": {},
   "outputs": [],
   "source": []
  }
 ],
 "metadata": {
  "kernelspec": {
   "display_name": "Python 3 (ipykernel)",
   "language": "python",
   "name": "python3"
  },
  "language_info": {
   "codemirror_mode": {
    "name": "ipython",
    "version": 3
   },
   "file_extension": ".py",
   "mimetype": "text/x-python",
   "name": "python",
   "nbconvert_exporter": "python",
   "pygments_lexer": "ipython3",
   "version": "3.11.6"
  }
 },
 "nbformat": 4,
 "nbformat_minor": 5
}
