{
 "cells": [
  {
   "cell_type": "code",
   "execution_count": null,
   "id": "5215343e-96c7-4b56-9576-4e53103f727a",
   "metadata": {
    "tags": []
   },
   "outputs": [],
   "source": [
    "import warnings\n",
    "warnings.filterwarnings(\"ignore\")"
   ]
  },
  {
   "cell_type": "code",
   "execution_count": null,
   "id": "4804fc62-e015-4c31-bef0-c2987d2e9dd9",
   "metadata": {
    "tags": []
   },
   "outputs": [],
   "source": [
    "from kserve import (\n",
    "    constants,\n",
    "    KServeClient,\n",
    "    V1beta1InferenceService,\n",
    "    V1beta1InferenceServiceSpec,\n",
    "    V1beta1PredictorSpec,\n",
    "    V1beta1SKLearnSpec,\n",
    "    V1beta1ModelSpec,\n",
    "    V1beta1ModelFormat,\n",
    "    V1beta1TFServingSpec,\n",
    "    utils\n",
    ")\n",
    "from kubernetes import client "
   ]
  },
  {
   "cell_type": "code",
   "execution_count": null,
   "id": "9322794c-5bd4-49d4-a635-a4baa6601192",
   "metadata": {
    "tags": []
   },
   "outputs": [],
   "source": [
    "namespace = utils.get_default_target_namespace()\n",
    "service_name=\"sklearn-python-student99\"\n",
    "\n",
    "api_version = constants.KSERVE_GROUP + '/' + constants.KSERVE_V1BETA1_VERSION\n",
    "storage = 'gs://kfserving-examples/models/sklearn/1.0/model'\n",
    "image = \"kserve/sklearnserver:v0.9.0\"\n",
    "isvc = V1beta1InferenceService(api_version=api_version,\n",
    "                               kind=constants.KSERVE_KIND,\n",
    "                               metadata=client.V1ObjectMeta(name=service_name, namespace=namespace, annotations={'sidecar.istio.io/inject':'false'}),\n",
    "                               spec=V1beta1InferenceServiceSpec(\n",
    "                                   predictor=V1beta1PredictorSpec(\n",
    "                                       sklearn=(V1beta1SKLearnSpec(\n",
    "                                           image = image,\n",
    "                                            storage_uri = storage))))\n",
    ")"
   ]
  },
  {
   "cell_type": "code",
   "execution_count": null,
   "id": "c77bc1b3-f2a4-4b5a-9e3c-7b0d99142572",
   "metadata": {
    "tags": []
   },
   "outputs": [],
   "source": [
    "KServe = KServeClient()\n",
    "KServe.create(isvc)"
   ]
  },
  {
   "cell_type": "code",
   "execution_count": null,
   "id": "4878e881-7e06-4e13-a5ec-9cc4811a4881",
   "metadata": {
    "tags": []
   },
   "outputs": [],
   "source": [
    "KServe.get(service_name, namespace=namespace, watch=True, timeout_seconds=120)\n",
    "isvc_resp=KServe.get(service_name, namespace=namespace)"
   ]
  },
  {
   "cell_type": "code",
   "execution_count": null,
   "id": "b4ca21f0-94d7-4aa9-8594-6d0b7734ee1d",
   "metadata": {
    "tags": []
   },
   "outputs": [],
   "source": [
    "import requests\n",
    "isvc_url = isvc_resp['status']['address']['url']\n",
    "print(isvc_url)"
   ]
  },
  {
   "cell_type": "code",
   "execution_count": null,
   "id": "71b09463-4ac1-43d8-a7f6-7b42e5fdcc6b",
   "metadata": {
    "tags": []
   },
   "outputs": [],
   "source": [
    "sklearn_iris_input={\n",
    "    \"instances\": [\n",
    "      [6.8,  2.8,  4.8,  1.4],\n",
    "      [6.0,  3.4,  4.5,  1.6]\n",
    "    ]\n",
    "}"
   ]
  },
  {
   "cell_type": "code",
   "execution_count": null,
   "id": "84174928-56ae-42c9-914d-fcada89070c1",
   "metadata": {
    "tags": []
   },
   "outputs": [],
   "source": [
    "ver_info = '/v1/models/'\n",
    "operaton = ':predict'\n",
    "rsvc_url = isvc_url + ver_info + service_name + operaton\n",
    "\n",
    "response = requests.post(rsvc_url, json=sklearn_iris_input)\n",
    "print(response.text)"
   ]
  },
  {
   "cell_type": "code",
   "execution_count": null,
   "id": "d76046dc-474f-4d6a-baf0-92c97fc449a1",
   "metadata": {},
   "outputs": [],
   "source": []
  }
 ],
 "metadata": {
  "kernelspec": {
   "display_name": "Python 3 (ipykernel)",
   "language": "python",
   "name": "python3"
  },
  "language_info": {
   "codemirror_mode": {
    "name": "ipython",
    "version": 3
   },
   "file_extension": ".py",
   "mimetype": "text/x-python",
   "name": "python",
   "nbconvert_exporter": "python",
   "pygments_lexer": "ipython3",
   "version": "3.11.6"
  }
 },
 "nbformat": 4,
 "nbformat_minor": 5
}
