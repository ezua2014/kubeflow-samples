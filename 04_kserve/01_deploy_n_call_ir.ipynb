{
 "cells": [
  {
   "cell_type": "markdown",
   "id": "ab308678-4862-4190-bed0-618aff8f7a0a",
   "metadata": {
    "tags": []
   },
   "source": [
    "\n",
    "cat sklearn-iris.yaml, prootocalversion1\n",
    "----\n",
    "apiVersion: \"serving.kserve.io/v1beta1\"\n",
    "kind: \"InferenceService\"\n",
    "metadata:\n",
    "  name: \"sklearn-iris\"\n",
    "  namespace: \"user1\"\n",
    "  annotations:\n",
    "    sidecar.istio.io/inject: \"false\"\n",
    "spec:\n",
    "  predictor:\n",
    "    model:\n",
    "      modelFormat:\n",
    "        name: sklearn\n",
    "      storageUri: \"gs://kfserving-examples/models/sklearn/1.0/model\"\n",
    "      \n",
    "----\n",
    "cat sklearn-v2-iris.yaml\n",
    "apiVersion: \"serving.kserve.io/v1beta1\"\n",
    "kind: \"InferenceService\"\n",
    "metadata:\n",
    "  annotations:\n",
    "    sidecar.istio.io/inject: \"false\"\n",
    "  name: \"sklearn-v2-iris\"\n",
    "  namespace: \"user1\"\n",
    "spec:\n",
    "  predictor:\n",
    "    model:\n",
    "      modelFormat:\n",
    "        name: sklearn\n",
    "      protocolVersion: v2\n",
    "      runtime: kserve-sklearnserver\n",
    "      storageUri: \"gs://kfserving-examples/models/sklearn/1.0/model\"\n"
   ]
  },
  {
   "cell_type": "code",
   "execution_count": null,
   "id": "c773ded8-107c-421b-aa95-c1850ae2f765",
   "metadata": {},
   "outputs": [],
   "source": [
    "#!pip install kserv==0.11.1"
   ]
  },
  {
   "cell_type": "markdown",
   "id": "0047f894-fcf2-4678-8013-3625877d39f7",
   "metadata": {
    "tags": []
   },
   "source": [
    "!pip install -r requirements.txt\n",
    "\n",
    "\n",
    "scikit-learn==1.3.1\n",
    "numpy==1.23.5\n",
    "panda==1.5.3\n",
    "kserve==0.11.1"
   ]
  },
  {
   "cell_type": "code",
   "execution_count": 1,
   "id": "45c84d95-1995-4d72-a34b-2d73f0e54bfb",
   "metadata": {
    "tags": []
   },
   "outputs": [],
   "source": [
    "from kserve import (\n",
    "    constants,\n",
    "    KServeClient,\n",
    "    V1beta1InferenceService,\n",
    "    V1beta1InferenceServiceSpec,\n",
    "    V1beta1PredictorSpec,\n",
    "    V1beta1SKLearnSpec,\n",
    "    V1beta1ModelSpec,\n",
    "    V1beta1ModelFormat,\n",
    "    V1beta1TFServingSpec,\n",
    "    utils\n",
    ")"
   ]
  },
  {
   "cell_type": "code",
   "execution_count": 2,
   "id": "476e3e0b-0d8b-46e1-92b5-fc1b282fa72b",
   "metadata": {
    "tags": []
   },
   "outputs": [],
   "source": [
    "import warnings\n",
    "warnings.filterwarnings(\"ignore\")\n",
    "from kubernetes import client "
   ]
  },
  {
   "cell_type": "code",
   "execution_count": 3,
   "id": "ca7cd84b-ddd2-46c6-b90c-c6ce95a21808",
   "metadata": {
    "tags": []
   },
   "outputs": [],
   "source": [
    "#namespace='user1'\n",
    "namespace = utils.get_default_target_namespace()\n",
    "service_name=\"sklearn-v4-iris\"\n",
    "storage = 'gs://kfserving-examples/models/sklearn/1.0/model'"
   ]
  },
  {
   "cell_type": "code",
   "execution_count": 4,
   "id": "8f8e7f3f-2ff2-405a-9cdf-d71b995c9ee9",
   "metadata": {
    "tags": []
   },
   "outputs": [],
   "source": [
    "# \n",
    "default_model_spec = V1beta1InferenceServiceSpec(predictor=V1beta1PredictorSpec(sklearn=V1beta1SKLearnSpec(\n",
    "    storage_uri=storage)))"
   ]
  },
  {
   "cell_type": "code",
   "execution_count": 5,
   "id": "e9218ac3-d962-4a90-8b86-76ce0db7d0ea",
   "metadata": {
    "tags": []
   },
   "outputs": [],
   "source": [
    "isvc = V1beta1InferenceService(api_version=constants.KSERVE_V1BETA1,\n",
    "                               kind=constants.KSERVE_KIND,\n",
    "                               metadata=client.V1ObjectMeta(name=service_name, namespace=namespace, annotations={'sidecar.istio.io/inject':'false'}), \n",
    "                               spec=default_model_spec)"
   ]
  },
  {
   "cell_type": "code",
   "execution_count": 6,
   "id": "755cfeeb-6bf4-47a5-8a44-15a97bea4ac9",
   "metadata": {
    "tags": []
   },
   "outputs": [
    {
     "data": {
      "text/plain": [
       "{'apiVersion': 'serving.kserve.io/v1beta1',\n",
       " 'kind': 'InferenceService',\n",
       " 'metadata': {'annotations': {'sidecar.istio.io/inject': 'false'},\n",
       "  'creationTimestamp': '2024-02-27T09:23:12Z',\n",
       "  'generation': 1,\n",
       "  'managedFields': [{'apiVersion': 'serving.kserve.io/v1beta1',\n",
       "    'fieldsType': 'FieldsV1',\n",
       "    'fieldsV1': {'f:metadata': {'f:annotations': {'.': {},\n",
       "       'f:sidecar.istio.io/inject': {}}},\n",
       "     'f:spec': {'.': {},\n",
       "      'f:predictor': {'.': {},\n",
       "       'f:sklearn': {'.': {}, 'f:name': {}, 'f:storageUri': {}}}}},\n",
       "    'manager': 'OpenAPI-Generator',\n",
       "    'operation': 'Update',\n",
       "    'time': '2024-02-27T09:23:10Z'}],\n",
       "  'name': 'sklearn-v4-iris',\n",
       "  'namespace': 'user1',\n",
       "  'resourceVersion': '10144352',\n",
       "  'uid': 'b4225904-97d5-4a6d-a29c-7c95b13e41db'},\n",
       " 'spec': {'predictor': {'model': {'modelFormat': {'name': 'sklearn'},\n",
       "    'name': '',\n",
       "    'resources': {},\n",
       "    'storageUri': 'gs://kfserving-examples/models/sklearn/1.0/model'}}}}"
      ]
     },
     "execution_count": 6,
     "metadata": {},
     "output_type": "execute_result"
    }
   ],
   "source": [
    "KServe = KServeClient()\n",
    "KServe.create(isvc)"
   ]
  },
  {
   "cell_type": "code",
   "execution_count": 7,
   "id": "7147e992-908d-4641-8439-860c33fdcbaf",
   "metadata": {
    "tags": []
   },
   "outputs": [
    {
     "name": "stdout",
     "output_type": "stream",
     "text": [
      "NAME             READY      PREV    LATEST  URL\n",
      "sklearn-v4-iris  Unknown       0       100\n",
      "NAME             READY      PREV    LATEST  URL\n",
      "sklearn-v4-iris  Unknown       0       100\n",
      "NAME             READY      PREV    LATEST  URL\n",
      "sklearn-v4-iris  Unknown       0       100\n",
      "NAME             READY      PREV    LATEST  URL\n",
      "sklearn-v4-iris  Unknown       0       100\n",
      "NAME             READY      PREV    LATEST  URL\n",
      "sklearn-v4-iris  True          0       100  https://sklearn-v4-iris-predictor.user1.ezua.ksi.local\n"
     ]
    }
   ],
   "source": [
    "KServe.get(service_name, namespace=namespace, watch=True, timeout_seconds=120)"
   ]
  },
  {
   "cell_type": "code",
   "execution_count": 8,
   "id": "bd305398-2f04-4125-878f-003eaab13af2",
   "metadata": {
    "tags": []
   },
   "outputs": [],
   "source": [
    "isvc_resp=KServe.get(service_name, namespace=namespace)"
   ]
  },
  {
   "cell_type": "code",
   "execution_count": 9,
   "id": "9e406859-7b5c-4fba-b30c-d61d24bb7a41",
   "metadata": {
    "tags": []
   },
   "outputs": [
    {
     "data": {
      "text/plain": [
       "{'apiVersion': 'serving.kserve.io/v1beta1',\n",
       " 'kind': 'InferenceService',\n",
       " 'metadata': {'annotations': {'sidecar.istio.io/inject': 'false'},\n",
       "  'creationTimestamp': '2024-02-27T09:23:12Z',\n",
       "  'finalizers': ['inferenceservice.finalizers'],\n",
       "  'generation': 1,\n",
       "  'managedFields': [{'apiVersion': 'serving.kserve.io/v1beta1',\n",
       "    'fieldsType': 'FieldsV1',\n",
       "    'fieldsV1': {'f:metadata': {'f:annotations': {'.': {},\n",
       "       'f:sidecar.istio.io/inject': {}}},\n",
       "     'f:spec': {'.': {},\n",
       "      'f:predictor': {'.': {},\n",
       "       'f:sklearn': {'.': {}, 'f:name': {}, 'f:storageUri': {}}}}},\n",
       "    'manager': 'OpenAPI-Generator',\n",
       "    'operation': 'Update',\n",
       "    'time': '2024-02-27T09:23:10Z'},\n",
       "   {'apiVersion': 'serving.kserve.io/v1beta1',\n",
       "    'fieldsType': 'FieldsV1',\n",
       "    'fieldsV1': {'f:metadata': {'f:finalizers': {'.': {},\n",
       "       'v:\"inferenceservice.finalizers\"': {}}}},\n",
       "    'manager': 'manager',\n",
       "    'operation': 'Update',\n",
       "    'time': '2024-02-27T09:23:12Z'},\n",
       "   {'apiVersion': 'serving.kserve.io/v1beta1',\n",
       "    'fieldsType': 'FieldsV1',\n",
       "    'fieldsV1': {'f:status': {'.': {},\n",
       "      'f:address': {'.': {}, 'f:url': {}},\n",
       "      'f:components': {'.': {},\n",
       "       'f:predictor': {'.': {},\n",
       "        'f:address': {'.': {}, 'f:url': {}},\n",
       "        'f:latestCreatedRevision': {},\n",
       "        'f:latestReadyRevision': {},\n",
       "        'f:latestRolledoutRevision': {},\n",
       "        'f:traffic': {},\n",
       "        'f:url': {}}},\n",
       "      'f:conditions': {},\n",
       "      'f:modelStatus': {'.': {},\n",
       "       'f:copies': {'.': {}, 'f:failedCopies': {}, 'f:totalCopies': {}},\n",
       "       'f:states': {'.': {},\n",
       "        'f:activeModelState': {},\n",
       "        'f:targetModelState': {}},\n",
       "       'f:transitionStatus': {}},\n",
       "      'f:observedGeneration': {},\n",
       "      'f:url': {}}},\n",
       "    'manager': 'manager',\n",
       "    'operation': 'Update',\n",
       "    'subresource': 'status',\n",
       "    'time': '2024-02-27T09:23:49Z'}],\n",
       "  'name': 'sklearn-v4-iris',\n",
       "  'namespace': 'user1',\n",
       "  'resourceVersion': '10145167',\n",
       "  'uid': 'b4225904-97d5-4a6d-a29c-7c95b13e41db'},\n",
       " 'spec': {'predictor': {'model': {'modelFormat': {'name': 'sklearn'},\n",
       "    'name': '',\n",
       "    'resources': {},\n",
       "    'storageUri': 'gs://kfserving-examples/models/sklearn/1.0/model'}}},\n",
       " 'status': {'address': {'url': 'http://sklearn-v4-iris-predictor.user1.svc.cluster.local'},\n",
       "  'components': {'predictor': {'address': {'url': 'http://sklearn-v4-iris-predictor.user1.svc.cluster.local'},\n",
       "    'latestCreatedRevision': 'sklearn-v4-iris-predictor-00001',\n",
       "    'latestReadyRevision': 'sklearn-v4-iris-predictor-00001',\n",
       "    'latestRolledoutRevision': 'sklearn-v4-iris-predictor-00001',\n",
       "    'traffic': [{'latestRevision': True,\n",
       "      'percent': 100,\n",
       "      'revisionName': 'sklearn-v4-iris-predictor-00001'}],\n",
       "    'url': 'https://sklearn-v4-iris-predictor.user1.ezua.ksi.local'}},\n",
       "  'conditions': [{'lastTransitionTime': '2024-02-27T09:23:49Z',\n",
       "    'status': 'True',\n",
       "    'type': 'IngressReady'},\n",
       "   {'lastTransitionTime': '2024-02-27T09:23:49Z',\n",
       "    'severity': 'Info',\n",
       "    'status': 'True',\n",
       "    'type': 'LatestDeploymentReady'},\n",
       "   {'lastTransitionTime': '2024-02-27T09:23:49Z',\n",
       "    'severity': 'Info',\n",
       "    'status': 'True',\n",
       "    'type': 'PredictorConfigurationReady'},\n",
       "   {'lastTransitionTime': '2024-02-27T09:23:49Z',\n",
       "    'status': 'True',\n",
       "    'type': 'PredictorReady'},\n",
       "   {'lastTransitionTime': '2024-02-27T09:23:49Z',\n",
       "    'severity': 'Info',\n",
       "    'status': 'True',\n",
       "    'type': 'PredictorRouteReady'},\n",
       "   {'lastTransitionTime': '2024-02-27T09:23:49Z',\n",
       "    'status': 'True',\n",
       "    'type': 'Ready'},\n",
       "   {'lastTransitionTime': '2024-02-27T09:23:49Z',\n",
       "    'severity': 'Info',\n",
       "    'status': 'True',\n",
       "    'type': 'RoutesReady'}],\n",
       "  'modelStatus': {'copies': {'failedCopies': 0, 'totalCopies': 1},\n",
       "   'states': {'activeModelState': 'Loaded', 'targetModelState': 'Loaded'},\n",
       "   'transitionStatus': 'UpToDate'},\n",
       "  'observedGeneration': 1,\n",
       "  'url': 'https://sklearn-v4-iris-predictor.user1.ezua.ksi.local'}}"
      ]
     },
     "execution_count": 9,
     "metadata": {},
     "output_type": "execute_result"
    }
   ],
   "source": [
    "isvc_resp"
   ]
  },
  {
   "cell_type": "code",
   "execution_count": 10,
   "id": "c1d852a8-ce00-4c49-a567-69d06ed0decc",
   "metadata": {
    "tags": []
   },
   "outputs": [],
   "source": [
    "sklearn_iris_input={\n",
    "    \"instances\": [\n",
    "      [6.8,  2.8,  4.8,  1.4],\n",
    "      [6.0,  3.4,  4.5,  1.6]\n",
    "    ]\n",
    "}"
   ]
  },
  {
   "cell_type": "code",
   "execution_count": 11,
   "id": "122e0578-a9e3-4818-afa4-975ba5536f43",
   "metadata": {
    "tags": []
   },
   "outputs": [],
   "source": [
    "import requests"
   ]
  },
  {
   "cell_type": "code",
   "execution_count": 19,
   "id": "f81db0b7-01c1-4eb3-8960-4000905b0ec1",
   "metadata": {
    "tags": []
   },
   "outputs": [
    {
     "name": "stdout",
     "output_type": "stream",
     "text": [
      "http://sklearn-v4-iris-predictor.user1.svc.cluster.local\n",
      "http://sklearn-v4-iris-predictor.user1.svc.cluster.local/v1/models/sklearn-v4-iris:predict\n"
     ]
    }
   ],
   "source": [
    "ver_info = '/v1/models/'\n",
    "operaton = ':predict'\n",
    "isvc_url = isvc_resp['status']['address']['url']\n",
    "rsvc_url = isvc_url + ver_info + service_name + operaton"
   ]
  },
  {
   "cell_type": "code",
   "execution_count": 20,
   "id": "fc71ecfa-09d0-40e9-8d55-f31aee66d853",
   "metadata": {
    "tags": []
   },
   "outputs": [],
   "source": [
    "response = requests.post(rsvc_url, json=sklearn_iris_input)"
   ]
  },
  {
   "cell_type": "code",
   "execution_count": 21,
   "id": "1679483e-746a-44c2-a756-3803531bdf62",
   "metadata": {
    "tags": []
   },
   "outputs": [
    {
     "name": "stdout",
     "output_type": "stream",
     "text": [
      "200\n"
     ]
    }
   ],
   "source": [
    "print(response.status_code)"
   ]
  },
  {
   "cell_type": "code",
   "execution_count": 22,
   "id": "5891c52e-ac21-483a-99ea-ee8a8377b312",
   "metadata": {
    "tags": []
   },
   "outputs": [
    {
     "name": "stdout",
     "output_type": "stream",
     "text": [
      "{\"predictions\":[1,1]}\n"
     ]
    }
   ],
   "source": [
    "print(response.text)"
   ]
  }
 ],
 "metadata": {
  "kernelspec": {
   "display_name": "Python 3 (ipykernel)",
   "language": "python",
   "name": "python3"
  },
  "language_info": {
   "codemirror_mode": {
    "name": "ipython",
    "version": 3
   },
   "file_extension": ".py",
   "mimetype": "text/x-python",
   "name": "python",
   "nbconvert_exporter": "python",
   "pygments_lexer": "ipython3",
   "version": "3.11.6"
  }
 },
 "nbformat": 4,
 "nbformat_minor": 5
}
