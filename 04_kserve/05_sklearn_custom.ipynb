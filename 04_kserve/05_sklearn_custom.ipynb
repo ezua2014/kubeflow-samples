{
 "cells": [
  {
   "cell_type": "code",
   "execution_count": null,
   "id": "6c99561c-5bcd-4e1f-a94c-0daf6e177900",
   "metadata": {
    "tags": []
   },
   "outputs": [],
   "source": [
    "#!pip install azure-storage-blob"
   ]
  },
  {
   "cell_type": "markdown",
   "id": "d4437112-c316-4ec4-bd6c-52015c81bed6",
   "metadata": {
    "tags": []
   },
   "source": [
    "#mino configuration\n",
    "curl https://dl.min.io/client/mc/release/linux-amd64/mc \\--create-dirs \\-o $HOME/minio-binaries/mc\n",
    "chmod +x $HOME/minio-binaries/mc\n",
    "export PATH=$PATH:$HOME/minio-binaries/\n",
    "mc config host ls\n",
    "mc config host add kubeflow http://minio-service.kubeflow.svc.cluster.local:9000\n",
    "kubectl -n kubeflow port-forward  --address=\"0.0.0.0\" svc/minio-service 9000:9000\n",
    "mc ls kubeflow\n",
    "mc mb kubeflow/kserve-test"
   ]
  },
  {
   "cell_type": "code",
   "execution_count": null,
   "id": "41411b3c-ede5-42a3-bcf4-c319712be5d2",
   "metadata": {
    "tags": []
   },
   "outputs": [],
   "source": [
    "import numpy as np\n",
    "import matplotlib.pyplot as plt\n",
    "from sklearn.tree import DecisionTreeRegressor"
   ]
  },
  {
   "cell_type": "code",
   "execution_count": null,
   "id": "e38a5431-ac26-4926-9cb6-a8ab1f39cc41",
   "metadata": {
    "tags": []
   },
   "outputs": [],
   "source": [
    "# Create a random dataset\n",
    "rng = np.random.RandomState(1)\n",
    "X = np.sort(200 * rng.rand(100, 1) - 100, axis=0)\n",
    "y = np.array([np.pi * np.sin(X).ravel(), np.pi * np.cos(X).ravel()]).T\n",
    "y[::5, :] += 0.5 - rng.rand(20, 2)"
   ]
  },
  {
   "cell_type": "code",
   "execution_count": null,
   "id": "7e0b6b4b-761c-4cf1-bb91-7f00182e448a",
   "metadata": {
    "tags": []
   },
   "outputs": [],
   "source": [
    "regr_1 = DecisionTreeRegressor(max_depth=2)\n",
    "regr_2 = DecisionTreeRegressor(max_depth=5)\n",
    "regr_3 = DecisionTreeRegressor(max_depth=8)\n",
    "regr_1.fit(X, y)\n",
    "regr_2.fit(X, y)\n",
    "regr_3.fit(X, y)"
   ]
  },
  {
   "cell_type": "code",
   "execution_count": null,
   "id": "b419b1b6-a503-4d7a-ad8d-24ff06bea04f",
   "metadata": {
    "tags": []
   },
   "outputs": [],
   "source": [
    "# Predict\n",
    "X_test = np.arange(-100.0, 100.0, 0.01)[:, np.newaxis]\n",
    "y_1 = regr_1.predict(X_test)\n",
    "y_2 = regr_2.predict(X_test)\n",
    "y_3 = regr_3.predict(X_test)\n",
    "\n",
    "y_3"
   ]
  },
  {
   "cell_type": "code",
   "execution_count": null,
   "id": "19ca74e8-7c69-41cb-8ccb-29e7939dcb61",
   "metadata": {
    "tags": []
   },
   "outputs": [],
   "source": [
    "import joblib\n",
    "\n",
    "import os\n",
    "os.environ.update({\n",
    "    'S3_ENDPOINT'          : 'minio-service.kubeflow:9000',\n",
    "    'AWS_ACCESS_KEY_ID'    : 'minioadmin',\n",
    "    'AWS_SECRET_ACCESS_KEY': 'minioadmin',\n",
    "    'S3_USE_HTTPS'         : '0',   # Whether or not to use HTTPS. Disable with 0.                        \n",
    "    'S3_VERIFY_SSL'        : '0'    # If HTTPS is used, controls if SSL should be enabled. Disable with 0.\n",
    "})  "
   ]
  },
  {
   "cell_type": "code",
   "execution_count": null,
   "id": "eac5d6ec-9ac4-430d-a092-eeb03cf55274",
   "metadata": {
    "tags": []
   },
   "outputs": [],
   "source": [
    "bucket_name=\"kserve-test\"\n",
    "model_path=\"/home/demo01/model.joblib\"\n",
    "joblib.dump(regr_3, model_path)"
   ]
  },
  {
   "cell_type": "code",
   "execution_count": null,
   "id": "1906bf4d-13e0-42ab-804f-62ca9f3de64b",
   "metadata": {
    "tags": []
   },
   "outputs": [],
   "source": [
    "!~/minio-binaries/mc cp ~/model.joblib kubeflow/kserve-test/sklearn-test/model.joblib"
   ]
  },
  {
   "cell_type": "raw",
   "id": "debb496e-8562-42f8-b2cf-db93aa74aa68",
   "metadata": {
    "tags": []
   },
   "source": [
    "## skleran-custom.yaml\n",
    "apiVersion: \"serving.kserve.io/v1beta1\"\n",
    "kind: \"InferenceService\"\n",
    "metadata:\n",
    "  name: \"sklearn-custom\"\n",
    "  annotations:\n",
    "    sidecar.istio.io/inject: \"false\"\n",
    "spec:\n",
    "  predictor:\n",
    "    serviceAccountName: \"sa\"\n",
    "    model:\n",
    "      modelFormat:\n",
    "        name: sklearn\n",
    "      storageUri: \"s3://kserve-test/sklearn-test\""
   ]
  },
  {
   "cell_type": "code",
   "execution_count": null,
   "id": "1e3aea11-cda0-445a-b4aa-94d0e8b5dce3",
   "metadata": {
    "tags": []
   },
   "outputs": [],
   "source": [
    " from kserve import (\n",
    "    KServeClient,\n",
    "    utils\n",
    ")\n",
    "from kubernetes import client "
   ]
  },
  {
   "cell_type": "code",
   "execution_count": null,
   "id": "dd68d3b8-81ce-44ca-b416-399180760770",
   "metadata": {
    "tags": []
   },
   "outputs": [],
   "source": [
    "namespace = utils.get_default_target_namespace()\n",
    "service_name = \"sklearn-custom\"\n",
    "KServe = KServeClient()\n",
    "KServe.get(service_name, namespace=namespace, watch=True, timeout_seconds=120)\n",
    "isvc_resp=KServe.get(service_name, namespace=namespace)"
   ]
  },
  {
   "cell_type": "code",
   "execution_count": null,
   "id": "92fb1f37-c674-4b78-9816-c5a0f6f8c007",
   "metadata": {
    "tags": []
   },
   "outputs": [],
   "source": [
    "isvc_resp"
   ]
  },
  {
   "cell_type": "code",
   "execution_count": null,
   "id": "5b82ffed-c538-4bea-9a92-278d6a5d9e74",
   "metadata": {
    "tags": []
   },
   "outputs": [],
   "source": [
    "X_test_list = X_test.tolist()"
   ]
  },
  {
   "cell_type": "code",
   "execution_count": null,
   "id": "f0188197-7d00-40db-b77f-e1b6b2e692b1",
   "metadata": {
    "tags": []
   },
   "outputs": [],
   "source": [
    "import requests\n",
    "isvc_url = isvc_resp['status']['address']['url']\n",
    "print(isvc_url)"
   ]
  },
  {
   "cell_type": "code",
   "execution_count": null,
   "id": "802a7a42-0159-4694-bc37-36707f47a38d",
   "metadata": {
    "tags": []
   },
   "outputs": [],
   "source": [
    "sklearn_test_input={\n",
    "    \"instances\": X_test_list\n",
    "}"
   ]
  },
  {
   "cell_type": "code",
   "execution_count": null,
   "id": "15ada8e3-fcb1-45f9-b978-cdc7b48e9672",
   "metadata": {
    "tags": []
   },
   "outputs": [],
   "source": [
    "ver_info = '/v1/models/'\n",
    "operaton = ':predict'\n",
    "rsvc_url = isvc_url + ver_info + service_name + operaton\n",
    "\n",
    "response = requests.post(rsvc_url, json=sklearn_test_input)"
   ]
  },
  {
   "cell_type": "code",
   "execution_count": null,
   "id": "53ace544-3508-4a0a-8b0a-5023942656a9",
   "metadata": {
    "tags": []
   },
   "outputs": [],
   "source": [
    "response.json()[\"predictions\"] == y_3"
   ]
  },
  {
   "cell_type": "code",
   "execution_count": null,
   "id": "814c717d-c536-436d-8ce3-e2ae101a33dd",
   "metadata": {},
   "outputs": [],
   "source": []
  }
 ],
 "metadata": {
  "kernelspec": {
   "display_name": "Python 3 (ipykernel)",
   "language": "python",
   "name": "python3"
  },
  "language_info": {
   "codemirror_mode": {
    "name": "ipython",
    "version": 3
   },
   "file_extension": ".py",
   "mimetype": "text/x-python",
   "name": "python",
   "nbconvert_exporter": "python",
   "pygments_lexer": "ipython3",
   "version": "3.11.6"
  }
 },
 "nbformat": 4,
 "nbformat_minor": 5
}
