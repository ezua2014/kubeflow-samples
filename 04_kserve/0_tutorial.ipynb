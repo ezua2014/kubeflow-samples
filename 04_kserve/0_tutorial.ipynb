{
 "cells": [
  {
   "cell_type": "code",
   "execution_count": null,
   "id": "b2606876-7f69-49ac-90d7-dbe7e57e108c",
   "metadata": {},
   "outputs": [],
   "source": [
    "# https://github.com/kserve/kserve/tree/master/docs"
   ]
  },
  {
   "cell_type": "markdown",
   "id": "c07e0b1c-4e6a-413d-b8dc-35a5a5bc7428",
   "metadata": {},
   "source": [
    "### iris-example.yaml\n",
    "```\n",
    "apiVersion: \"serving.kserve.io/v1beta1\"\n",
    "kind: \"InferenceService\"\n",
    "metadata:\n",
    "  annotations:\n",
    "    sidecar.istio.io/inject: \"false\"\n",
    "  name: \"sklearn-iris\"\n",
    "spec:\n",
    "  predictor:\n",
    "    sklearn:\n",
    "      image: \"kserve/sklearnserver:v0.9.0\"\n",
    "      storageUri: \"gs://kfserving-examples/models/sklearn/1.0/model\"\n",
    "```\n",
    "- example의 model은 kserve8.0 이상에서 동작하도록 만들어져 있기 때문에 image를 따로 불러와야 한다. \n",
    "\n",
    "### iris-request.yaml\n",
    "```\n",
    "{\n",
    "    \"instances\": [\n",
    "      [6.8,  2.8,  4.8,  1.4],\n",
    "      [6.0,  3.4,  4.5,  1.6]\n",
    "    ]\n",
    "}\n",
    "```"
   ]
  },
  {
   "cell_type": "code",
   "execution_count": 1,
   "id": "80415d9e-1126-40b1-9984-54a398a4ee37",
   "metadata": {
    "scrolled": true,
    "tags": []
   },
   "outputs": [
    {
     "name": "stdout",
     "output_type": "stream",
     "text": [
      "Requirement already satisfied: kserve in /opt/conda/lib/python3.11/site-packages (0.11.2)\n",
      "Requirement already satisfied: cloudevents<2.0.0,>=1.6.2 in /opt/conda/lib/python3.11/site-packages (from kserve) (1.10.1)\n",
      "Requirement already satisfied: fastapi<0.96.0,>=0.95.0 in /opt/conda/lib/python3.11/site-packages (from kserve) (0.95.2)\n",
      "Requirement already satisfied: grpcio<2.0.0,>=1.49.1 in /opt/conda/lib/python3.11/site-packages (from kserve) (1.51.3)\n",
      "Requirement already satisfied: httpx<0.24.0,>=0.23.0 in /opt/conda/lib/python3.11/site-packages (from kserve) (0.23.3)\n",
      "Requirement already satisfied: kubernetes>=23.3.0 in /opt/conda/lib/python3.11/site-packages (from kserve) (25.3.0)\n",
      "Requirement already satisfied: numpy<2.0.0,>=1.23.5 in /opt/conda/lib/python3.11/site-packages (from kserve) (1.23.5)\n",
      "Requirement already satisfied: orjson<4.0.0,>=3.8.0 in /opt/conda/lib/python3.11/site-packages (from kserve) (3.9.12)\n",
      "Requirement already satisfied: pandas>=1.3.5 in /opt/conda/lib/python3.11/site-packages (from kserve) (1.5.3)\n",
      "Requirement already satisfied: prometheus-client<0.14.0,>=0.13.1 in /opt/conda/lib/python3.11/site-packages (from kserve) (0.13.1)\n",
      "Requirement already satisfied: protobuf<4.0.0,>=3.19.0 in /opt/conda/lib/python3.11/site-packages (from kserve) (3.20.3)\n",
      "Requirement already satisfied: psutil<6.0.0,>=5.9.0 in /opt/conda/lib/python3.11/site-packages (from kserve) (5.9.8)\n",
      "Requirement already satisfied: python-dateutil<3.0.0,>=2.8.0 in /opt/conda/lib/python3.11/site-packages (from kserve) (2.8.2)\n",
      "Requirement already satisfied: ray<2.5.0,>=2.4.0 in /opt/conda/lib/python3.11/site-packages (from ray[serve]<2.5.0,>=2.4.0->kserve) (2.4.0)\n",
      "Requirement already satisfied: six<2.0.0,>=1.16.0 in /opt/conda/lib/python3.11/site-packages (from kserve) (1.16.0)\n",
      "Requirement already satisfied: tabulate<0.10.0,>=0.9.0 in /opt/conda/lib/python3.11/site-packages (from kserve) (0.9.0)\n",
      "Requirement already satisfied: timing-asgi<0.4.0,>=0.3.0 in /opt/conda/lib/python3.11/site-packages (from kserve) (0.3.1)\n",
      "Requirement already satisfied: tritonclient<3.0.0,>=2.18.0 in /opt/conda/lib/python3.11/site-packages (from kserve) (2.41.1)\n",
      "Requirement already satisfied: uvicorn<0.20.0,>=0.19.0 in /opt/conda/lib/python3.11/site-packages (from uvicorn[standard]<0.20.0,>=0.19.0->kserve) (0.19.0)\n",
      "Requirement already satisfied: deprecation<3.0,>=2.0 in /opt/conda/lib/python3.11/site-packages (from cloudevents<2.0.0,>=1.6.2->kserve) (2.1.0)\n",
      "Requirement already satisfied: pydantic!=1.7,!=1.7.1,!=1.7.2,!=1.7.3,!=1.8,!=1.8.1,<2.0.0,>=1.6.2 in /opt/conda/lib/python3.11/site-packages (from fastapi<0.96.0,>=0.95.0->kserve) (1.10.14)\n",
      "Requirement already satisfied: starlette<0.28.0,>=0.27.0 in /opt/conda/lib/python3.11/site-packages (from fastapi<0.96.0,>=0.95.0->kserve) (0.27.0)\n",
      "Requirement already satisfied: certifi in /opt/conda/lib/python3.11/site-packages (from httpx<0.24.0,>=0.23.0->kserve) (2023.11.17)\n",
      "Requirement already satisfied: httpcore<0.17.0,>=0.15.0 in /opt/conda/lib/python3.11/site-packages (from httpx<0.24.0,>=0.23.0->kserve) (0.16.3)\n",
      "Requirement already satisfied: rfc3986<2,>=1.3 in /opt/conda/lib/python3.11/site-packages (from rfc3986[idna2008]<2,>=1.3->httpx<0.24.0,>=0.23.0->kserve) (1.5.0)\n",
      "Requirement already satisfied: sniffio in /opt/conda/lib/python3.11/site-packages (from httpx<0.24.0,>=0.23.0->kserve) (1.3.0)\n",
      "Requirement already satisfied: setuptools>=21.0.0 in /opt/conda/lib/python3.11/site-packages (from kubernetes>=23.3.0->kserve) (69.0.3)\n",
      "Requirement already satisfied: pyyaml>=5.4.1 in /opt/conda/lib/python3.11/site-packages (from kubernetes>=23.3.0->kserve) (6.0.1)\n",
      "Requirement already satisfied: google-auth>=1.0.1 in /opt/conda/lib/python3.11/site-packages (from kubernetes>=23.3.0->kserve) (2.26.2)\n",
      "Requirement already satisfied: websocket-client!=0.40.0,!=0.41.*,!=0.42.*,>=0.32.0 in /opt/conda/lib/python3.11/site-packages (from kubernetes>=23.3.0->kserve) (1.7.0)\n",
      "Requirement already satisfied: requests in /opt/conda/lib/python3.11/site-packages (from kubernetes>=23.3.0->kserve) (2.31.0)\n",
      "Requirement already satisfied: requests-oauthlib in /opt/conda/lib/python3.11/site-packages (from kubernetes>=23.3.0->kserve) (1.3.1)\n",
      "Requirement already satisfied: urllib3>=1.24.2 in /opt/conda/lib/python3.11/site-packages (from kubernetes>=23.3.0->kserve) (1.26.18)\n",
      "Requirement already satisfied: pytz>=2020.1 in /opt/conda/lib/python3.11/site-packages (from pandas>=1.3.5->kserve) (2023.3.post1)\n",
      "Requirement already satisfied: attrs in /opt/conda/lib/python3.11/site-packages (from ray<2.5.0,>=2.4.0->ray[serve]<2.5.0,>=2.4.0->kserve) (23.2.0)\n",
      "Requirement already satisfied: click>=7.0 in /opt/conda/lib/python3.11/site-packages (from ray<2.5.0,>=2.4.0->ray[serve]<2.5.0,>=2.4.0->kserve) (8.1.7)\n",
      "Requirement already satisfied: filelock in /opt/conda/lib/python3.11/site-packages (from ray<2.5.0,>=2.4.0->ray[serve]<2.5.0,>=2.4.0->kserve) (3.13.1)\n",
      "Requirement already satisfied: jsonschema in /opt/conda/lib/python3.11/site-packages (from ray<2.5.0,>=2.4.0->ray[serve]<2.5.0,>=2.4.0->kserve) (4.21.1)\n",
      "Requirement already satisfied: msgpack<2.0.0,>=1.0.0 in /opt/conda/lib/python3.11/site-packages (from ray<2.5.0,>=2.4.0->ray[serve]<2.5.0,>=2.4.0->kserve) (1.0.7)\n",
      "Requirement already satisfied: aiosignal in /opt/conda/lib/python3.11/site-packages (from ray<2.5.0,>=2.4.0->ray[serve]<2.5.0,>=2.4.0->kserve) (1.3.1)\n",
      "Requirement already satisfied: frozenlist in /opt/conda/lib/python3.11/site-packages (from ray<2.5.0,>=2.4.0->ray[serve]<2.5.0,>=2.4.0->kserve) (1.4.1)\n",
      "Requirement already satisfied: virtualenv<20.21.1,>=20.0.24 in /opt/conda/lib/python3.11/site-packages (from ray<2.5.0,>=2.4.0->ray[serve]<2.5.0,>=2.4.0->kserve) (20.21.0)\n",
      "Requirement already satisfied: packaging in /opt/conda/lib/python3.11/site-packages (from ray<2.5.0,>=2.4.0->ray[serve]<2.5.0,>=2.4.0->kserve) (23.2)\n",
      "Requirement already satisfied: aiohttp-cors in /opt/conda/lib/python3.11/site-packages (from ray[serve]<2.5.0,>=2.4.0->kserve) (0.7.0)\n",
      "Requirement already satisfied: aiohttp>=3.7 in /opt/conda/lib/python3.11/site-packages (from ray[serve]<2.5.0,>=2.4.0->kserve) (3.9.1)\n",
      "Requirement already satisfied: py-spy>=0.2.0 in /opt/conda/lib/python3.11/site-packages (from ray[serve]<2.5.0,>=2.4.0->kserve) (0.3.14)\n",
      "Requirement already satisfied: aiorwlock in /opt/conda/lib/python3.11/site-packages (from ray[serve]<2.5.0,>=2.4.0->kserve) (1.4.0)\n",
      "Requirement already satisfied: gpustat>=1.0.0 in /opt/conda/lib/python3.11/site-packages (from ray[serve]<2.5.0,>=2.4.0->kserve) (1.1.1)\n",
      "Requirement already satisfied: colorful in /opt/conda/lib/python3.11/site-packages (from ray[serve]<2.5.0,>=2.4.0->kserve) (0.5.6)\n",
      "Requirement already satisfied: opencensus in /opt/conda/lib/python3.11/site-packages (from ray[serve]<2.5.0,>=2.4.0->kserve) (0.11.4)\n",
      "Requirement already satisfied: smart-open in /opt/conda/lib/python3.11/site-packages (from ray[serve]<2.5.0,>=2.4.0->kserve) (6.4.0)\n",
      "Requirement already satisfied: python-rapidjson>=0.9.1 in /opt/conda/lib/python3.11/site-packages (from tritonclient<3.0.0,>=2.18.0->kserve) (1.14)\n",
      "Requirement already satisfied: h11>=0.8 in /opt/conda/lib/python3.11/site-packages (from uvicorn<0.20.0,>=0.19.0->uvicorn[standard]<0.20.0,>=0.19.0->kserve) (0.14.0)\n",
      "Requirement already satisfied: httptools>=0.5.0 in /opt/conda/lib/python3.11/site-packages (from uvicorn[standard]<0.20.0,>=0.19.0->kserve) (0.6.1)\n",
      "Requirement already satisfied: python-dotenv>=0.13 in /opt/conda/lib/python3.11/site-packages (from uvicorn[standard]<0.20.0,>=0.19.0->kserve) (1.0.0)\n",
      "Requirement already satisfied: uvloop!=0.15.0,!=0.15.1,>=0.14.0 in /opt/conda/lib/python3.11/site-packages (from uvicorn[standard]<0.20.0,>=0.19.0->kserve) (0.19.0)\n",
      "Requirement already satisfied: watchfiles>=0.13 in /opt/conda/lib/python3.11/site-packages (from uvicorn[standard]<0.20.0,>=0.19.0->kserve) (0.21.0)\n",
      "Requirement already satisfied: websockets>=10.0 in /opt/conda/lib/python3.11/site-packages (from uvicorn[standard]<0.20.0,>=0.19.0->kserve) (12.0)\n",
      "Requirement already satisfied: multidict<7.0,>=4.5 in /opt/conda/lib/python3.11/site-packages (from aiohttp>=3.7->ray[serve]<2.5.0,>=2.4.0->kserve) (6.0.4)\n",
      "Requirement already satisfied: yarl<2.0,>=1.0 in /opt/conda/lib/python3.11/site-packages (from aiohttp>=3.7->ray[serve]<2.5.0,>=2.4.0->kserve) (1.9.4)\n",
      "Requirement already satisfied: cachetools<6.0,>=2.0.0 in /opt/conda/lib/python3.11/site-packages (from google-auth>=1.0.1->kubernetes>=23.3.0->kserve) (5.3.2)\n",
      "Requirement already satisfied: pyasn1-modules>=0.2.1 in /opt/conda/lib/python3.11/site-packages (from google-auth>=1.0.1->kubernetes>=23.3.0->kserve) (0.3.0)\n",
      "Requirement already satisfied: rsa<5,>=3.1.4 in /opt/conda/lib/python3.11/site-packages (from google-auth>=1.0.1->kubernetes>=23.3.0->kserve) (4.9)\n",
      "Requirement already satisfied: nvidia-ml-py>=11.450.129 in /opt/conda/lib/python3.11/site-packages (from gpustat>=1.0.0->ray[serve]<2.5.0,>=2.4.0->kserve) (12.535.133)\n",
      "Requirement already satisfied: blessed>=1.17.1 in /opt/conda/lib/python3.11/site-packages (from gpustat>=1.0.0->ray[serve]<2.5.0,>=2.4.0->kserve) (1.20.0)\n",
      "Requirement already satisfied: anyio<5.0,>=3.0 in /opt/conda/lib/python3.11/site-packages (from httpcore<0.17.0,>=0.15.0->httpx<0.24.0,>=0.23.0->kserve) (4.2.0)\n",
      "Requirement already satisfied: typing-extensions>=4.2.0 in /opt/conda/lib/python3.11/site-packages (from pydantic!=1.7,!=1.7.1,!=1.7.2,!=1.7.3,!=1.8,!=1.8.1,<2.0.0,>=1.6.2->fastapi<0.96.0,>=0.95.0->kserve) (4.5.0)\n",
      "Requirement already satisfied: idna in /opt/conda/lib/python3.11/site-packages (from rfc3986[idna2008]<2,>=1.3->httpx<0.24.0,>=0.23.0->kserve) (3.6)\n",
      "Requirement already satisfied: distlib<1,>=0.3.6 in /opt/conda/lib/python3.11/site-packages (from virtualenv<20.21.1,>=20.0.24->ray<2.5.0,>=2.4.0->ray[serve]<2.5.0,>=2.4.0->kserve) (0.3.8)\n",
      "Requirement already satisfied: platformdirs<4,>=2.4 in /opt/conda/lib/python3.11/site-packages (from virtualenv<20.21.1,>=20.0.24->ray<2.5.0,>=2.4.0->ray[serve]<2.5.0,>=2.4.0->kserve) (3.11.0)\n",
      "Requirement already satisfied: jsonschema-specifications>=2023.03.6 in /opt/conda/lib/python3.11/site-packages (from jsonschema->ray<2.5.0,>=2.4.0->ray[serve]<2.5.0,>=2.4.0->kserve) (2023.12.1)\n",
      "Requirement already satisfied: referencing>=0.28.4 in /opt/conda/lib/python3.11/site-packages (from jsonschema->ray<2.5.0,>=2.4.0->ray[serve]<2.5.0,>=2.4.0->kserve) (0.32.1)\n",
      "Requirement already satisfied: rpds-py>=0.7.1 in /opt/conda/lib/python3.11/site-packages (from jsonschema->ray<2.5.0,>=2.4.0->ray[serve]<2.5.0,>=2.4.0->kserve) (0.17.1)\n",
      "Requirement already satisfied: opencensus-context>=0.1.3 in /opt/conda/lib/python3.11/site-packages (from opencensus->ray[serve]<2.5.0,>=2.4.0->kserve) (0.1.3)\n",
      "Requirement already satisfied: google-api-core<3.0.0,>=1.0.0 in /opt/conda/lib/python3.11/site-packages (from opencensus->ray[serve]<2.5.0,>=2.4.0->kserve) (2.15.0)\n",
      "Requirement already satisfied: charset-normalizer<4,>=2 in /opt/conda/lib/python3.11/site-packages (from requests->kubernetes>=23.3.0->kserve) (3.3.2)\n",
      "Requirement already satisfied: oauthlib>=3.0.0 in /opt/conda/lib/python3.11/site-packages (from requests-oauthlib->kubernetes>=23.3.0->kserve) (3.2.2)\n",
      "Requirement already satisfied: wcwidth>=0.1.4 in /opt/conda/lib/python3.11/site-packages (from blessed>=1.17.1->gpustat>=1.0.0->ray[serve]<2.5.0,>=2.4.0->kserve) (0.2.13)\n",
      "Requirement already satisfied: googleapis-common-protos<2.0.dev0,>=1.56.2 in /opt/conda/lib/python3.11/site-packages (from google-api-core<3.0.0,>=1.0.0->opencensus->ray[serve]<2.5.0,>=2.4.0->kserve) (1.62.0)\n",
      "Requirement already satisfied: pyasn1<0.6.0,>=0.4.6 in /opt/conda/lib/python3.11/site-packages (from pyasn1-modules>=0.2.1->google-auth>=1.0.1->kubernetes>=23.3.0->kserve) (0.5.1)\n"
     ]
    }
   ],
   "source": [
    "!pip install kserve"
   ]
  },
  {
   "cell_type": "code",
   "execution_count": 3,
   "id": "a15a356e-651d-4989-b0a7-9e3eae3acae7",
   "metadata": {
    "tags": []
   },
   "outputs": [],
   "source": [
    "import warnings\n",
    "warnings.filterwarnings(\"ignore\")"
   ]
  },
  {
   "cell_type": "code",
   "execution_count": 4,
   "id": "04b514c1-11c3-4b3d-a97c-2c5545acc114",
   "metadata": {
    "tags": []
   },
   "outputs": [],
   "source": [
    "from kserve import (\n",
    "    constants,\n",
    "    KServeClient,\n",
    "    V1beta1InferenceService,\n",
    "    V1beta1InferenceServiceSpec,\n",
    "    V1beta1PredictorSpec,\n",
    "    V1beta1SKLearnSpec,\n",
    "    V1beta1ModelSpec,\n",
    "    V1beta1ModelFormat,\n",
    "    V1beta1TFServingSpec,\n",
    "    utils\n",
    ")\n",
    "from kubernetes import client "
   ]
  },
  {
   "cell_type": "code",
   "execution_count": 5,
   "id": "f15a54e4-8aef-467c-ba58-42448277415e",
   "metadata": {
    "tags": []
   },
   "outputs": [],
   "source": [
    "namespace = utils.get_default_target_namespace()\n",
    "service_name=\"sklearn-iris-python\"\n",
    "\n",
    "api_version = constants.KSERVE_GROUP + '/' + constants.KSERVE_V1BETA1_VERSION\n",
    "storage = 'gs://kfserving-examples/models/sklearn/1.0/model'\n",
    "image = \"kserve/sklearnserver:v0.9.0\"\n",
    "isvc = V1beta1InferenceService(api_version=api_version,\n",
    "                               kind=constants.KSERVE_KIND,\n",
    "                               metadata=client.V1ObjectMeta(name=service_name, namespace=namespace, annotations={'sidecar.istio.io/inject':'false'}),\n",
    "                               spec=V1beta1InferenceServiceSpec(\n",
    "                                   predictor=V1beta1PredictorSpec(\n",
    "                                       sklearn=(V1beta1SKLearnSpec(\n",
    "                                           image = image,\n",
    "                                            storage_uri = storage))))\n",
    ")"
   ]
  },
  {
   "cell_type": "code",
   "execution_count": 6,
   "id": "c655272e-9599-42dd-924b-f005e04f1b70",
   "metadata": {
    "scrolled": true,
    "tags": []
   },
   "outputs": [
    {
     "data": {
      "text/plain": [
       "{'apiVersion': 'serving.kserve.io/v1beta1',\n",
       " 'kind': 'InferenceService',\n",
       " 'metadata': {'annotations': {'sidecar.istio.io/inject': 'false'},\n",
       "  'creationTimestamp': '2024-03-13T09:06:39Z',\n",
       "  'generation': 1,\n",
       "  'managedFields': [{'apiVersion': 'serving.kserve.io/v1beta1',\n",
       "    'fieldsType': 'FieldsV1',\n",
       "    'fieldsV1': {'f:metadata': {'f:annotations': {'.': {},\n",
       "       'f:sidecar.istio.io/inject': {}}},\n",
       "     'f:spec': {'.': {},\n",
       "      'f:predictor': {'.': {},\n",
       "       'f:sklearn': {'.': {},\n",
       "        'f:image': {},\n",
       "        'f:name': {},\n",
       "        'f:storageUri': {}}}}},\n",
       "    'manager': 'OpenAPI-Generator',\n",
       "    'operation': 'Update',\n",
       "    'time': '2024-03-13T09:06:36Z'}],\n",
       "  'name': 'sklearn-iris-python',\n",
       "  'namespace': 'user2',\n",
       "  'resourceVersion': '30632907',\n",
       "  'uid': '733a4833-f676-48eb-8820-7315a32462ac'},\n",
       " 'spec': {'predictor': {'model': {'image': 'kserve/sklearnserver:v0.9.0',\n",
       "    'modelFormat': {'name': 'sklearn'},\n",
       "    'name': '',\n",
       "    'resources': {},\n",
       "    'storageUri': 'gs://kfserving-examples/models/sklearn/1.0/model'}}}}"
      ]
     },
     "execution_count": 6,
     "metadata": {},
     "output_type": "execute_result"
    }
   ],
   "source": [
    "KServe = KServeClient()\n",
    "KServe.create(isvc)"
   ]
  },
  {
   "cell_type": "code",
   "execution_count": 7,
   "id": "dfd34cd6-e655-48e8-a0cc-b088852c8b19",
   "metadata": {
    "scrolled": true,
    "tags": []
   },
   "outputs": [
    {
     "name": "stdout",
     "output_type": "stream",
     "text": [
      "NAME                 READY      PREV    LATEST  URL\n",
      "sklearn-iris-python  Unknown       0       100\n",
      "NAME                 READY      PREV    LATEST  URL\n",
      "sklearn-iris-python  Unknown       0       100\n",
      "NAME                 READY      PREV    LATEST  URL\n",
      "sklearn-iris-python  Unknown       0       100\n",
      "NAME                 READY      PREV    LATEST  URL\n",
      "sklearn-iris-python  Unknown       0       100\n",
      "NAME                 READY      PREV    LATEST  URL\n",
      "sklearn-iris-python  True          0       100  https://sklearn-iris-python-predictor.user2.ezua.ksi.local\n"
     ]
    }
   ],
   "source": [
    "KServe.get(service_name, namespace=namespace, watch=True, timeout_seconds=120)\n",
    "isvc_resp=KServe.get(service_name, namespace=namespace)"
   ]
  },
  {
   "cell_type": "code",
   "execution_count": 8,
   "id": "1e230cfd-e672-435f-a869-ee30c2ee366c",
   "metadata": {
    "scrolled": true,
    "tags": []
   },
   "outputs": [
    {
     "data": {
      "text/plain": [
       "{'apiVersion': 'serving.kserve.io/v1beta1',\n",
       " 'kind': 'InferenceService',\n",
       " 'metadata': {'annotations': {'sidecar.istio.io/inject': 'false'},\n",
       "  'creationTimestamp': '2024-03-13T09:06:39Z',\n",
       "  'finalizers': ['inferenceservice.finalizers'],\n",
       "  'generation': 1,\n",
       "  'managedFields': [{'apiVersion': 'serving.kserve.io/v1beta1',\n",
       "    'fieldsType': 'FieldsV1',\n",
       "    'fieldsV1': {'f:metadata': {'f:annotations': {'.': {},\n",
       "       'f:sidecar.istio.io/inject': {}}},\n",
       "     'f:spec': {'.': {},\n",
       "      'f:predictor': {'.': {},\n",
       "       'f:sklearn': {'.': {},\n",
       "        'f:image': {},\n",
       "        'f:name': {},\n",
       "        'f:storageUri': {}}}}},\n",
       "    'manager': 'OpenAPI-Generator',\n",
       "    'operation': 'Update',\n",
       "    'time': '2024-03-13T09:06:36Z'},\n",
       "   {'apiVersion': 'serving.kserve.io/v1beta1',\n",
       "    'fieldsType': 'FieldsV1',\n",
       "    'fieldsV1': {'f:metadata': {'f:finalizers': {'.': {},\n",
       "       'v:\"inferenceservice.finalizers\"': {}}}},\n",
       "    'manager': 'manager',\n",
       "    'operation': 'Update',\n",
       "    'time': '2024-03-13T09:06:39Z'},\n",
       "   {'apiVersion': 'serving.kserve.io/v1beta1',\n",
       "    'fieldsType': 'FieldsV1',\n",
       "    'fieldsV1': {'f:status': {'.': {},\n",
       "      'f:address': {'.': {}, 'f:url': {}},\n",
       "      'f:components': {'.': {},\n",
       "       'f:predictor': {'.': {},\n",
       "        'f:address': {'.': {}, 'f:url': {}},\n",
       "        'f:latestCreatedRevision': {},\n",
       "        'f:latestReadyRevision': {},\n",
       "        'f:latestRolledoutRevision': {},\n",
       "        'f:traffic': {},\n",
       "        'f:url': {}}},\n",
       "      'f:conditions': {},\n",
       "      'f:modelStatus': {'.': {},\n",
       "       'f:states': {'.': {},\n",
       "        'f:activeModelState': {},\n",
       "        'f:targetModelState': {}},\n",
       "       'f:transitionStatus': {}},\n",
       "      'f:observedGeneration': {},\n",
       "      'f:url': {}}},\n",
       "    'manager': 'manager',\n",
       "    'operation': 'Update',\n",
       "    'subresource': 'status',\n",
       "    'time': '2024-03-13T09:07:34Z'}],\n",
       "  'name': 'sklearn-iris-python',\n",
       "  'namespace': 'user2',\n",
       "  'resourceVersion': '30634001',\n",
       "  'uid': '733a4833-f676-48eb-8820-7315a32462ac'},\n",
       " 'spec': {'predictor': {'model': {'image': 'kserve/sklearnserver:v0.9.0',\n",
       "    'modelFormat': {'name': 'sklearn'},\n",
       "    'name': '',\n",
       "    'resources': {},\n",
       "    'storageUri': 'gs://kfserving-examples/models/sklearn/1.0/model'}}},\n",
       " 'status': {'address': {'url': 'http://sklearn-iris-python-predictor.user2.svc.cluster.local'},\n",
       "  'components': {'predictor': {'address': {'url': 'http://sklearn-iris-python-predictor.user2.svc.cluster.local'},\n",
       "    'latestCreatedRevision': 'sklearn-iris-python-predictor-00001',\n",
       "    'latestReadyRevision': 'sklearn-iris-python-predictor-00001',\n",
       "    'latestRolledoutRevision': 'sklearn-iris-python-predictor-00001',\n",
       "    'traffic': [{'latestRevision': True,\n",
       "      'percent': 100,\n",
       "      'revisionName': 'sklearn-iris-python-predictor-00001'}],\n",
       "    'url': 'https://sklearn-iris-python-predictor.user2.ezua.ksi.local'}},\n",
       "  'conditions': [{'lastTransitionTime': '2024-03-13T09:07:34Z',\n",
       "    'status': 'True',\n",
       "    'type': 'IngressReady'},\n",
       "   {'lastTransitionTime': '2024-03-13T09:07:33Z',\n",
       "    'severity': 'Info',\n",
       "    'status': 'True',\n",
       "    'type': 'LatestDeploymentReady'},\n",
       "   {'lastTransitionTime': '2024-03-13T09:07:33Z',\n",
       "    'severity': 'Info',\n",
       "    'status': 'True',\n",
       "    'type': 'PredictorConfigurationReady'},\n",
       "   {'lastTransitionTime': '2024-03-13T09:07:33Z',\n",
       "    'status': 'True',\n",
       "    'type': 'PredictorReady'},\n",
       "   {'lastTransitionTime': '2024-03-13T09:07:33Z',\n",
       "    'severity': 'Info',\n",
       "    'status': 'True',\n",
       "    'type': 'PredictorRouteReady'},\n",
       "   {'lastTransitionTime': '2024-03-13T09:07:34Z',\n",
       "    'status': 'True',\n",
       "    'type': 'Ready'},\n",
       "   {'lastTransitionTime': '2024-03-13T09:07:33Z',\n",
       "    'severity': 'Info',\n",
       "    'status': 'True',\n",
       "    'type': 'RoutesReady'}],\n",
       "  'modelStatus': {'states': {'activeModelState': '',\n",
       "    'targetModelState': 'Pending'},\n",
       "   'transitionStatus': 'InProgress'},\n",
       "  'observedGeneration': 1,\n",
       "  'url': 'https://sklearn-iris-python-predictor.user2.ezua.ksi.local'}}"
      ]
     },
     "execution_count": 8,
     "metadata": {},
     "output_type": "execute_result"
    }
   ],
   "source": [
    "isvc_resp"
   ]
  },
  {
   "cell_type": "code",
   "execution_count": 9,
   "id": "db6190ed-e900-4b7e-877e-f1a117667086",
   "metadata": {
    "tags": []
   },
   "outputs": [],
   "source": [
    "sklearn_iris_input={\n",
    "    \"instances\": [\n",
    "      [6.8,  2.8,  4.8,  1.4],\n",
    "      [6.0,  3.4,  4.5,  1.6]\n",
    "    ]\n",
    "}"
   ]
  },
  {
   "cell_type": "code",
   "execution_count": 11,
   "id": "97118907-866c-448a-bbe5-d26ecac97d95",
   "metadata": {
    "tags": []
   },
   "outputs": [
    {
     "name": "stdout",
     "output_type": "stream",
     "text": [
      "http://sklearn-iris-python-predictor.user2.svc.cluster.local\n",
      "{\"predictions\": [1, 1]}\n"
     ]
    }
   ],
   "source": [
    "import requests\n",
    "isvc_url = isvc_resp['status']['address']['url']\n",
    "print(isvc_url)\n",
    "rsvc_url = isvc_url +\"/v1/models/\" + service_name + \":predict\"\n",
    "response = requests.post(rsvc_url, json=sklearn_iris_input)\n",
    "print(response.text)"
   ]
  },
  {
   "cell_type": "code",
   "execution_count": null,
   "id": "7c6aef95-b5c9-41a6-8445-cb6e98f11912",
   "metadata": {},
   "outputs": [],
   "source": [
    "# curl을 이용한 요청"
   ]
  },
  {
   "cell_type": "code",
   "execution_count": 12,
   "id": "5d304ed6-336e-422f-9a94-91a7df0ddfd2",
   "metadata": {
    "tags": []
   },
   "outputs": [
    {
     "name": "stdout",
     "output_type": "stream",
     "text": [
      "{'_oauth2_proxy_csrf_-4sxIn-j': 'laWRsHk4B8aQCh44eHR15yVMp39xzins7Fkec8kmF03TXlxhH7I9GG6qO-CxUhmDXBS7teXQ5PFHtNuG4X4JOqwwQpkaB2RwctbsCoPcwFPY9cIdRNj_Xik=|1710321170|h7SYiedfJFy7XlFGfMyY11UHU0kIwq8MIeWHciqKU6o=', 'AUTH_SESSION_ID': '85ba775a-9196-4229-ba6e-87c024377069.keycloak-0-19908', 'AUTH_SESSION_ID_LEGACY': '85ba775a-9196-4229-ba6e-87c024377069.keycloak-0-19908', 'KC_RESTART': 'eyJhbGciOiJIUzI1NiIsInR5cCIgOiAiSldUIiwia2lkIiA6ICIxOThhYjZkOS01M2M1LTQ5NTQtYTg4Ni01YWI2YzI0MWI0NzEifQ.eyJjaWQiOiJ1YSIsInB0eSI6Im9wZW5pZC1jb25uZWN0IiwicnVyaSI6Imh0dHBzOi8va3ViZWZsb3cuZXp1YS5rc2kubG9jYWwvb2F1dGgyL2NhbGxiYWNrIiwiYWN0IjoiQVVUSEVOVElDQVRFIiwibm90ZXMiOnsic2NvcGUiOiJvcGVuaWQgZW1haWwgcHJvZmlsZSBvZmZsaW5lX2FjY2VzcyIsImlzcyI6Imh0dHBzOi8va2V5Y2xvYWsuZXp1YS5rc2kubG9jYWwvcmVhbG1zL1VBIiwicmVzcG9uc2VfdHlwZSI6ImNvZGUiLCJyZWRpcmVjdF91cmkiOiJodHRwczovL2t1YmVmbG93LmV6dWEua3NpLmxvY2FsL29hdXRoMi9jYWxsYmFjayIsInN0YXRlIjoiLTRzeEluLWpTbWRtREpHMkplUmxIQ2xOcDRjaG1STkNzTEN6eXZ0djBnNDpodHRwczovL3Rva2VuLXNlcnZpY2UuZXp1YS5rc2kubG9jYWw_b3JpZy11cmw9aHR0cHM6Ly9rdWJlZmxvdy5lenVhLmtzaS5sb2NhbC8iLCJub25jZSI6IlhGMnNyU2g4VHV0Qk04UVVpMHQycHg3Z0JHcVItUjNMREgyVDBPYWZLaE0ifX0.3bxNTqgIVvUprmNWf6oNSeIFRqncbeFvs3AOnv9szxY'}\n"
     ]
    }
   ],
   "source": [
    "import requests\n",
    "import kfp\n",
    "\n",
    "HOST = \"https://kubeflow.ezua.ksi.local/\"\n",
    "USERNAME = \"user2@example.com\"\n",
    "PASSWORD = \"user23456\"\n",
    "\n",
    "session = requests.Session()\n",
    "response = session.get(HOST, verify=False) #ssl 접속시 verify=False \n",
    "\n",
    "headers = {\n",
    "    \"Content-Type\": \"application/x-www-form-urlencoded\",\n",
    "}\n",
    "\n",
    "data = {\"login\": USERNAME, \"password\": PASSWORD}\n",
    "session.post(response.url, headers=headers, data=data)\n",
    "# session_cookie = session.cookies.get_dict()[\"authservice_session\"]\n",
    "session_cookie = session.cookies.get_dict()\n",
    "print(session_cookie)"
   ]
  },
  {
   "cell_type": "code",
   "execution_count": 17,
   "id": "b59b182f-72e4-4922-bd6c-235e07ab533e",
   "metadata": {
    "tags": []
   },
   "outputs": [
    {
     "ename": "JSONDecodeError",
     "evalue": "Expecting value: line 1 column 1 (char 0)",
     "output_type": "error",
     "traceback": [
      "\u001b[0;31m---------------------------------------------------------------------------\u001b[0m",
      "\u001b[0;31mJSONDecodeError\u001b[0m                           Traceback (most recent call last)",
      "File \u001b[0;32m/opt/conda/lib/python3.11/site-packages/requests/models.py:971\u001b[0m, in \u001b[0;36mResponse.json\u001b[0;34m(self, **kwargs)\u001b[0m\n\u001b[1;32m    970\u001b[0m \u001b[38;5;28;01mtry\u001b[39;00m:\n\u001b[0;32m--> 971\u001b[0m     \u001b[38;5;28;01mreturn\u001b[39;00m \u001b[43mcomplexjson\u001b[49m\u001b[38;5;241;43m.\u001b[39;49m\u001b[43mloads\u001b[49m\u001b[43m(\u001b[49m\u001b[38;5;28;43mself\u001b[39;49m\u001b[38;5;241;43m.\u001b[39;49m\u001b[43mtext\u001b[49m\u001b[43m,\u001b[49m\u001b[43m \u001b[49m\u001b[38;5;241;43m*\u001b[39;49m\u001b[38;5;241;43m*\u001b[39;49m\u001b[43mkwargs\u001b[49m\u001b[43m)\u001b[49m\n\u001b[1;32m    972\u001b[0m \u001b[38;5;28;01mexcept\u001b[39;00m JSONDecodeError \u001b[38;5;28;01mas\u001b[39;00m e:\n\u001b[1;32m    973\u001b[0m     \u001b[38;5;66;03m# Catch JSON-related errors and raise as requests.JSONDecodeError\u001b[39;00m\n\u001b[1;32m    974\u001b[0m     \u001b[38;5;66;03m# This aliases json.JSONDecodeError and simplejson.JSONDecodeError\u001b[39;00m\n",
      "File \u001b[0;32m/opt/conda/lib/python3.11/json/__init__.py:346\u001b[0m, in \u001b[0;36mloads\u001b[0;34m(s, cls, object_hook, parse_float, parse_int, parse_constant, object_pairs_hook, **kw)\u001b[0m\n\u001b[1;32m    343\u001b[0m \u001b[38;5;28;01mif\u001b[39;00m (\u001b[38;5;28mcls\u001b[39m \u001b[38;5;129;01mis\u001b[39;00m \u001b[38;5;28;01mNone\u001b[39;00m \u001b[38;5;129;01mand\u001b[39;00m object_hook \u001b[38;5;129;01mis\u001b[39;00m \u001b[38;5;28;01mNone\u001b[39;00m \u001b[38;5;129;01mand\u001b[39;00m\n\u001b[1;32m    344\u001b[0m         parse_int \u001b[38;5;129;01mis\u001b[39;00m \u001b[38;5;28;01mNone\u001b[39;00m \u001b[38;5;129;01mand\u001b[39;00m parse_float \u001b[38;5;129;01mis\u001b[39;00m \u001b[38;5;28;01mNone\u001b[39;00m \u001b[38;5;129;01mand\u001b[39;00m\n\u001b[1;32m    345\u001b[0m         parse_constant \u001b[38;5;129;01mis\u001b[39;00m \u001b[38;5;28;01mNone\u001b[39;00m \u001b[38;5;129;01mand\u001b[39;00m object_pairs_hook \u001b[38;5;129;01mis\u001b[39;00m \u001b[38;5;28;01mNone\u001b[39;00m \u001b[38;5;129;01mand\u001b[39;00m \u001b[38;5;129;01mnot\u001b[39;00m kw):\n\u001b[0;32m--> 346\u001b[0m     \u001b[38;5;28;01mreturn\u001b[39;00m \u001b[43m_default_decoder\u001b[49m\u001b[38;5;241;43m.\u001b[39;49m\u001b[43mdecode\u001b[49m\u001b[43m(\u001b[49m\u001b[43ms\u001b[49m\u001b[43m)\u001b[49m\n\u001b[1;32m    347\u001b[0m \u001b[38;5;28;01mif\u001b[39;00m \u001b[38;5;28mcls\u001b[39m \u001b[38;5;129;01mis\u001b[39;00m \u001b[38;5;28;01mNone\u001b[39;00m:\n",
      "File \u001b[0;32m/opt/conda/lib/python3.11/json/decoder.py:337\u001b[0m, in \u001b[0;36mJSONDecoder.decode\u001b[0;34m(self, s, _w)\u001b[0m\n\u001b[1;32m    333\u001b[0m \u001b[38;5;250m\u001b[39m\u001b[38;5;124;03m\"\"\"Return the Python representation of ``s`` (a ``str`` instance\u001b[39;00m\n\u001b[1;32m    334\u001b[0m \u001b[38;5;124;03mcontaining a JSON document).\u001b[39;00m\n\u001b[1;32m    335\u001b[0m \n\u001b[1;32m    336\u001b[0m \u001b[38;5;124;03m\"\"\"\u001b[39;00m\n\u001b[0;32m--> 337\u001b[0m obj, end \u001b[38;5;241m=\u001b[39m \u001b[38;5;28;43mself\u001b[39;49m\u001b[38;5;241;43m.\u001b[39;49m\u001b[43mraw_decode\u001b[49m\u001b[43m(\u001b[49m\u001b[43ms\u001b[49m\u001b[43m,\u001b[49m\u001b[43m \u001b[49m\u001b[43midx\u001b[49m\u001b[38;5;241;43m=\u001b[39;49m\u001b[43m_w\u001b[49m\u001b[43m(\u001b[49m\u001b[43ms\u001b[49m\u001b[43m,\u001b[49m\u001b[43m \u001b[49m\u001b[38;5;241;43m0\u001b[39;49m\u001b[43m)\u001b[49m\u001b[38;5;241;43m.\u001b[39;49m\u001b[43mend\u001b[49m\u001b[43m(\u001b[49m\u001b[43m)\u001b[49m\u001b[43m)\u001b[49m\n\u001b[1;32m    338\u001b[0m end \u001b[38;5;241m=\u001b[39m _w(s, end)\u001b[38;5;241m.\u001b[39mend()\n",
      "File \u001b[0;32m/opt/conda/lib/python3.11/json/decoder.py:355\u001b[0m, in \u001b[0;36mJSONDecoder.raw_decode\u001b[0;34m(self, s, idx)\u001b[0m\n\u001b[1;32m    354\u001b[0m \u001b[38;5;28;01mexcept\u001b[39;00m \u001b[38;5;167;01mStopIteration\u001b[39;00m \u001b[38;5;28;01mas\u001b[39;00m err:\n\u001b[0;32m--> 355\u001b[0m     \u001b[38;5;28;01mraise\u001b[39;00m JSONDecodeError(\u001b[38;5;124m\"\u001b[39m\u001b[38;5;124mExpecting value\u001b[39m\u001b[38;5;124m\"\u001b[39m, s, err\u001b[38;5;241m.\u001b[39mvalue) \u001b[38;5;28;01mfrom\u001b[39;00m \u001b[38;5;28;01mNone\u001b[39;00m\n\u001b[1;32m    356\u001b[0m \u001b[38;5;28;01mreturn\u001b[39;00m obj, end\n",
      "\u001b[0;31mJSONDecodeError\u001b[0m: Expecting value: line 1 column 1 (char 0)",
      "\nDuring handling of the above exception, another exception occurred:\n",
      "\u001b[0;31mJSONDecodeError\u001b[0m                           Traceback (most recent call last)",
      "Cell \u001b[0;32mIn[17], line 4\u001b[0m\n\u001b[1;32m      2\u001b[0m headers \u001b[38;5;241m=\u001b[39m {\u001b[38;5;124m\"\u001b[39m\u001b[38;5;124mHost\u001b[39m\u001b[38;5;124m\"\u001b[39m: \u001b[38;5;124m\"\u001b[39m\u001b[38;5;124msklearn-iris-python.kubeflow.example.com\u001b[39m\u001b[38;5;124m\"\u001b[39m}\n\u001b[1;32m      3\u001b[0m res \u001b[38;5;241m=\u001b[39m session\u001b[38;5;241m.\u001b[39mpost(\u001b[38;5;124m\"\u001b[39m\u001b[38;5;124mhttps://kubeflow.ezua.ksi.local/v1/models/sklearn-iris-python:predict\u001b[39m\u001b[38;5;124m\"\u001b[39m, headers\u001b[38;5;241m=\u001b[39mheaders, cookies\u001b[38;5;241m=\u001b[39msession_cookie, data\u001b[38;5;241m=\u001b[39mjson\u001b[38;5;241m.\u001b[39mdumps(sklearn_iris_input))\n\u001b[0;32m----> 4\u001b[0m \u001b[38;5;28mprint\u001b[39m(\u001b[43mres\u001b[49m\u001b[38;5;241;43m.\u001b[39;49m\u001b[43mjson\u001b[49m\u001b[43m(\u001b[49m\u001b[43m)\u001b[49m)\n",
      "File \u001b[0;32m/opt/conda/lib/python3.11/site-packages/requests/models.py:975\u001b[0m, in \u001b[0;36mResponse.json\u001b[0;34m(self, **kwargs)\u001b[0m\n\u001b[1;32m    971\u001b[0m     \u001b[38;5;28;01mreturn\u001b[39;00m complexjson\u001b[38;5;241m.\u001b[39mloads(\u001b[38;5;28mself\u001b[39m\u001b[38;5;241m.\u001b[39mtext, \u001b[38;5;241m*\u001b[39m\u001b[38;5;241m*\u001b[39mkwargs)\n\u001b[1;32m    972\u001b[0m \u001b[38;5;28;01mexcept\u001b[39;00m JSONDecodeError \u001b[38;5;28;01mas\u001b[39;00m e:\n\u001b[1;32m    973\u001b[0m     \u001b[38;5;66;03m# Catch JSON-related errors and raise as requests.JSONDecodeError\u001b[39;00m\n\u001b[1;32m    974\u001b[0m     \u001b[38;5;66;03m# This aliases json.JSONDecodeError and simplejson.JSONDecodeError\u001b[39;00m\n\u001b[0;32m--> 975\u001b[0m     \u001b[38;5;28;01mraise\u001b[39;00m RequestsJSONDecodeError(e\u001b[38;5;241m.\u001b[39mmsg, e\u001b[38;5;241m.\u001b[39mdoc, e\u001b[38;5;241m.\u001b[39mpos)\n",
      "\u001b[0;31mJSONDecodeError\u001b[0m: Expecting value: line 1 column 1 (char 0)"
     ]
    }
   ],
   "source": [
    "import json\n",
    "headers = {\"Host\": \"sklearn-iris-python-predictor.user2.ezua.ksi.local\"}\n",
    "res = session.post(\"https://kubeflow.ezua.ksi.local/v1/models/sklearn-iris-python:predict\", headers=headers, cookies=session_cookie, data=json.dumps(sklearn_iris_input))\n",
    "print(res.json())"
   ]
  },
  {
   "cell_type": "code",
   "execution_count": null,
   "id": "1afb2f09-b434-45ab-a689-bce372d1f116",
   "metadata": {},
   "outputs": [],
   "source": []
  }
 ],
 "metadata": {
  "kernelspec": {
   "display_name": "Python 3 (ipykernel)",
   "language": "python",
   "name": "python3"
  },
  "language_info": {
   "codemirror_mode": {
    "name": "ipython",
    "version": 3
   },
   "file_extension": ".py",
   "mimetype": "text/x-python",
   "name": "python",
   "nbconvert_exporter": "python",
   "pygments_lexer": "ipython3",
   "version": "3.11.6"
  }
 },
 "nbformat": 4,
 "nbformat_minor": 5
}
