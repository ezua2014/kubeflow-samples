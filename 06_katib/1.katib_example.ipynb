{
 "cells": [
  {
   "cell_type": "code",
   "execution_count": 5,
   "id": "cede6696-8136-4ec8-8a41-5e1ffb78bb98",
   "metadata": {
    "tags": []
   },
   "outputs": [],
   "source": [
    "import kubeflow.katib as katib\n",
    "\n",
    "# Step 1. Create an objective function.\n",
    "def objective(parameters):\n",
    "    # Import required packages.\n",
    "    import time\n",
    "    time.sleep(5)\n",
    "    # Calculate objective function.\n",
    "    result = 4 * int(parameters[\"a\"]) - float(parameters[\"b\"]) ** 2\n",
    "    # Katib parses metrics in this format: <metric-name>=<metric-value>.\n",
    "    print(f\"result={result}\")\n",
    "\n"
   ]
  },
  {
   "cell_type": "code",
   "execution_count": 6,
   "id": "0bff16ea-1c5c-4dac-86c7-7dc748ebc348",
   "metadata": {
    "tags": []
   },
   "outputs": [],
   "source": [
    "# Step 2. Create HyperParameter search space.\n",
    "parameters = {\n",
    "    \"a\": katib.search.int(min=10, max=20),\n",
    "    \"b\": katib.search.double(min=0.1, max=0.2)\n",
    "}\n",
    "\n"
   ]
  },
  {
   "cell_type": "code",
   "execution_count": 7,
   "id": "fa9c3318-da33-478e-b8e3-87d3dbba9bfa",
   "metadata": {
    "tags": []
   },
   "outputs": [
    {
     "name": "stdout",
     "output_type": "stream",
     "text": [
      "Experiment user2/tune-experiment2 has been created\n"
     ]
    },
    {
     "data": {
      "text/html": [
       "Katib Experiment tune-experiment2 link <a href=\"/_/katib/#/katib/hp_monitor/user2/tune-experiment2\" target=\"_blank\">here</a>"
      ],
      "text/plain": [
       "<IPython.core.display.HTML object>"
      ]
     },
     "metadata": {},
     "output_type": "display_data"
    }
   ],
   "source": [
    "# Step 3. Create Katib Experiment with 12 Trials and 2 GPUs per Trial.\n",
    "katib_client = katib.KatibClient()\n",
    "name = \"tune-experiment2\"\n",
    "katib_client.tune(\n",
    "    name=name,\n",
    "    objective=objective,\n",
    "    parameters=parameters,\n",
    "    objective_metric_name=\"result\",\n",
    "    max_trial_count=12,\n",
    "    resources_per_trial={\"cpu\": \"2\"},\n",
    ")\n",
    "\n"
   ]
  },
  {
   "cell_type": "code",
   "execution_count": 4,
   "id": "4b47d880-29f7-4159-bb28-cc337fc50784",
   "metadata": {
    "tags": []
   },
   "outputs": [
    {
     "name": "stdout",
     "output_type": "stream",
     "text": [
      "None\n"
     ]
    }
   ],
   "source": [
    "# Step 4. Get the best HyperParameters.\n",
    "print(katib_client.get_optimal_hyperparameters(name))"
   ]
  },
  {
   "cell_type": "code",
   "execution_count": null,
   "id": "11c18af7-45ac-4ec9-b931-929c4dd3eb70",
   "metadata": {},
   "outputs": [],
   "source": []
  }
 ],
 "metadata": {
  "kernelspec": {
   "display_name": "Python 3 (ipykernel)",
   "language": "python",
   "name": "python3"
  },
  "language_info": {
   "codemirror_mode": {
    "name": "ipython",
    "version": 3
   },
   "file_extension": ".py",
   "mimetype": "text/x-python",
   "name": "python",
   "nbconvert_exporter": "python",
   "pygments_lexer": "ipython3",
   "version": "3.11.6"
  }
 },
 "nbformat": 4,
 "nbformat_minor": 5
}
