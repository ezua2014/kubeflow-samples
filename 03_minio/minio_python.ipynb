{
 "cells": [
  {
   "cell_type": "code",
   "execution_count": null,
   "id": "ea8c7846-66f7-45db-92ff-1cc49d26e442",
   "metadata": {
    "tags": []
   },
   "outputs": [],
   "source": [
    "import minio\n",
    "from minio import Minio"
   ]
  },
  {
   "cell_type": "markdown",
   "id": "060fb8fc-b851-4a21-9db2-a92ccb7d19b6",
   "metadata": {
    "tags": []
   },
   "source": [
    "minioClient = Minio('minio-service.kubeflow.svc.cluster.local:9000',\n",
    "                     access_key='minioadmin',\n",
    "                     secret_key='minioadmin',\n",
    "                     secure=False)\n",
    "\n",
    "bucket_name = \"mlpipeline\"\n",
    "\n",
    "if minioClient.bucket_exists(bucket_name):\n",
    "    print(f\"{bucket_name} exists\")\n",
    "else:\n",
    "    print(f\"{bucket_name} does not exist\")"
   ]
  },
  {
   "cell_type": "code",
   "execution_count": null,
   "id": "e7ffe1ac-288e-489c-b014-c9b1a87a9bf5",
   "metadata": {
    "tags": []
   },
   "outputs": [],
   "source": [
    "class MinioClient():\n",
    "    def __init__(self):\n",
    "        self.client = Minio(\n",
    "            \"minio-service.kubeflow.svc.cluster.local:9000\",\n",
    "            access_key=\"minioadmin\",\n",
    "            secret_key=\"minioadmin\",\n",
    "            secure=False\n",
    "        )\n",
    "\n",
    "    def create_bucket(self,bucket_name):\n",
    "        if self.client.bucket_exists(bucket_name):\n",
    "            print(f\"{bucket_name} exists\")\n",
    "        else:\n",
    "            self.client.make_bucket(bucket_name)        \n",
    "            print(f\"{bucket_name} created\")\n",
    "\n",
    "    def upload_file(self, bucket, minio_path, local_path):\n",
    "        self.client.fput_object(bucket, minio_path, local_path)\n",
    "\n",
    "    def upload_directory(self, bucket, minio_path, local_path):\n",
    "        if os.path.isdir(local_path):\n",
    "            items = os.listdir(local_path)\n",
    "            items.sort()\n",
    "            for item in items:\n",
    "                item_local_path = os.path.join(local_path, item)\n",
    "                item_minio_path = os.path.join(minio_path, item)\n",
    "                if os.path.isfile(item_local_path):\n",
    "                    self.upload_file(bucket, item_minio_path, item_local_path)\n",
    "                elif os.path.isdir(item_local_path):\n",
    "                    self.upload_directory(bucket, item_minio_path, item_local_path)"
   ]
  },
  {
   "cell_type": "code",
   "execution_count": null,
   "id": "baa549e2-3477-4c4c-93dd-0db6effe731b",
   "metadata": {
    "tags": []
   },
   "outputs": [],
   "source": [
    "mc_sdk = MinioClient()"
   ]
  },
  {
   "cell_type": "code",
   "execution_count": null,
   "id": "f7a629f3-a234-41d3-bcec-2374b2668e38",
   "metadata": {
    "tags": []
   },
   "outputs": [],
   "source": [
    "mc_sdk.create_bucket(\"kserve-student99\")"
   ]
  },
  {
   "cell_type": "code",
   "execution_count": null,
   "id": "f757a213-f27a-454e-91d6-30ff963e68c8",
   "metadata": {
    "tags": []
   },
   "outputs": [],
   "source": [
    "mc_sdk.upload_file(\"kserve-student99\", \"hello.txt\", \"hello.txt\")"
   ]
  },
  {
   "cell_type": "code",
   "execution_count": null,
   "id": "d28df56b-d932-4890-999b-b64f26ee7871",
   "metadata": {},
   "outputs": [],
   "source": []
  },
  {
   "cell_type": "code",
   "execution_count": null,
   "id": "86ee6fa6-fd0e-44f1-8207-2f76dc67fc74",
   "metadata": {},
   "outputs": [],
   "source": []
  }
 ],
 "metadata": {
  "kernelspec": {
   "display_name": "Python 3 (ipykernel)",
   "language": "python",
   "name": "python3"
  },
  "language_info": {
   "codemirror_mode": {
    "name": "ipython",
    "version": 3
   },
   "file_extension": ".py",
   "mimetype": "text/x-python",
   "name": "python",
   "nbconvert_exporter": "python",
   "pygments_lexer": "ipython3",
   "version": "3.11.6"
  }
 },
 "nbformat": 4,
 "nbformat_minor": 5
}
