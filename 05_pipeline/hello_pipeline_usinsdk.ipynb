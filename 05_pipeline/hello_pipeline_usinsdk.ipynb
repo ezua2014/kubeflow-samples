{
 "cells": [
  {
   "cell_type": "code",
   "execution_count": 1,
   "id": "42988bcd-244d-48c1-bd44-f172bf68dd5e",
   "metadata": {
    "tags": []
   },
   "outputs": [],
   "source": [
    "import kfp"
   ]
  },
  {
   "cell_type": "code",
   "execution_count": 2,
   "id": "1df8115c-c70e-4949-82eb-e21b2053d2b8",
   "metadata": {
    "tags": []
   },
   "outputs": [],
   "source": [
    "client = kfp.Client()"
   ]
  },
  {
   "cell_type": "code",
   "execution_count": 4,
   "id": "95ef02eb-7141-4410-9d71-b57f2052c889",
   "metadata": {
    "tags": []
   },
   "outputs": [
    {
     "data": {
      "text/plain": [
       "{'experiments': [{'created_at': datetime.datetime(2024, 2, 24, 3, 22, 15, tzinfo=tzlocal()),\n",
       "                  'description': 'start experiment',\n",
       "                  'id': 'e66ae014-79d4-4e11-828b-9adb7bc4c37f',\n",
       "                  'name': 'lab1',\n",
       "                  'resource_references': [{'key': {'id': 'user1',\n",
       "                                                   'type': 'NAMESPACE'},\n",
       "                                           'name': None,\n",
       "                                           'relationship': 'OWNER'}],\n",
       "                  'storage_state': 'STORAGESTATE_AVAILABLE'},\n",
       "                 {'created_at': datetime.datetime(2024, 2, 28, 0, 54, 41, tzinfo=tzlocal()),\n",
       "                  'description': 'the first experiment',\n",
       "                  'id': '64b2e9ab-92e6-42c1-869d-2d2fd1fee392',\n",
       "                  'name': 'exp01',\n",
       "                  'resource_references': [{'key': {'id': 'user1',\n",
       "                                                   'type': 'NAMESPACE'},\n",
       "                                           'name': None,\n",
       "                                           'relationship': 'OWNER'}],\n",
       "                  'storage_state': 'STORAGESTATE_AVAILABLE'}],\n",
       " 'next_page_token': None,\n",
       " 'total_size': 2}"
      ]
     },
     "execution_count": 4,
     "metadata": {},
     "output_type": "execute_result"
    }
   ],
   "source": [
    "client.list_experiments()"
   ]
  },
  {
   "cell_type": "code",
   "execution_count": 5,
   "id": "aa57d1c8-56a1-44cf-a1de-805e8835edbb",
   "metadata": {
    "tags": []
   },
   "outputs": [],
   "source": [
    "def hello_world_component():\n",
    "    ret = \"Hello World!\"\n",
    "    print(ret)\n",
    "    return ret"
   ]
  },
  {
   "cell_type": "code",
   "execution_count": 6,
   "id": "fc5b6905-aff1-4adb-9f69-e420bebb4e2a",
   "metadata": {
    "tags": []
   },
   "outputs": [],
   "source": [
    "hello_world_op = kfp.components.func_to_container_op(hello_world_component)"
   ]
  },
  {
   "cell_type": "code",
   "execution_count": 7,
   "id": "d693f8c4-3572-405b-bf16-f1ab5cee760f",
   "metadata": {
    "tags": []
   },
   "outputs": [],
   "source": [
    "@kfp.dsl.pipeline(\n",
    "    name=\"hello_pipeline\",\n",
    "    description=\"Hello World Pipeline!\"\n",
    ")\n",
    "def hello_world_pipeline():\n",
    "    print_hello_world_task = hello_world_op()"
   ]
  },
  {
   "cell_type": "code",
   "execution_count": 8,
   "id": "a9d2454f-d1d6-4280-8e4c-78e221016fb7",
   "metadata": {
    "tags": []
   },
   "outputs": [],
   "source": [
    "kfp.compiler.Compiler().compile(hello_world_pipeline, \"hello-world-pipeline.zip\")"
   ]
  },
  {
   "cell_type": "code",
   "execution_count": 9,
   "id": "ff794551-e456-4f63-87b3-f0a83ef802b3",
   "metadata": {
    "tags": []
   },
   "outputs": [
    {
     "data": {
      "text/html": [
       "<a href=\"/pipeline/#/experiments/details/e66ae014-79d4-4e11-828b-9adb7bc4c37f\" target=\"_blank\" >Experiment details</a>."
      ],
      "text/plain": [
       "<IPython.core.display.HTML object>"
      ]
     },
     "metadata": {},
     "output_type": "display_data"
    },
    {
     "data": {
      "text/html": [
       "<a href=\"/pipeline/#/runs/details/a4c7ccbb-38b2-4a66-a2f9-661b9156479e\" target=\"_blank\" >Run details</a>."
      ],
      "text/plain": [
       "<IPython.core.display.HTML object>"
      ]
     },
     "metadata": {},
     "output_type": "display_data"
    },
    {
     "data": {
      "text/plain": [
       "RunPipelineResult(run_id=a4c7ccbb-38b2-4a66-a2f9-661b9156479e)"
      ]
     },
     "execution_count": 9,
     "metadata": {},
     "output_type": "execute_result"
    }
   ],
   "source": [
    "kfp.Client().create_run_from_pipeline_func(\n",
    "    hello_world_pipeline,\n",
    "    arguments={}, \n",
    "    experiment_name=\"lab1\"\n",
    ")"
   ]
  },
  {
   "cell_type": "code",
   "execution_count": null,
   "id": "cbd20575-2020-41c2-97dd-d3df81a0ef06",
   "metadata": {},
   "outputs": [],
   "source": []
  }
 ],
 "metadata": {
  "kernelspec": {
   "display_name": "Python 3 (ipykernel)",
   "language": "python",
   "name": "python3"
  },
  "language_info": {
   "codemirror_mode": {
    "name": "ipython",
    "version": 3
   },
   "file_extension": ".py",
   "mimetype": "text/x-python",
   "name": "python",
   "nbconvert_exporter": "python",
   "pygments_lexer": "ipython3",
   "version": "3.11.6"
  }
 },
 "nbformat": 4,
 "nbformat_minor": 5
}
