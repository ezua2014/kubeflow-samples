{
 "cells": [
  {
   "cell_type": "code",
   "execution_count": 1,
   "id": "4c264f5b-6462-4050-b642-5b03f5df83d3",
   "metadata": {
    "tags": []
   },
   "outputs": [],
   "source": [
    "import kfp\n",
    "from kfp import dsl\n",
    "from kfp.components import create_component_from_func"
   ]
  },
  {
   "cell_type": "code",
   "execution_count": 2,
   "id": "f79c748e-08c8-4e6a-b486-14b3a4dc68a9",
   "metadata": {
    "tags": []
   },
   "outputs": [],
   "source": [
    "def add_component(a: float, b: float) -> float:\n",
    "    print(a, '+', b, '=', a + b)\n",
    "    return a + b"
   ]
  },
  {
   "cell_type": "code",
   "execution_count": 3,
   "id": "c20728cd-aee9-4ae3-b535-426ad89f9785",
   "metadata": {
    "tags": []
   },
   "outputs": [],
   "source": [
    "BASE_IMAGE = \"python:3.11.6\"\n",
    "add_op = create_component_from_func(add_component, \n",
    "                                    base_image=BASE_IMAGE)"
   ]
  },
  {
   "cell_type": "code",
   "execution_count": null,
   "id": "b136822e-af42-4ff5-b9fd-10cbc4a80840",
   "metadata": {},
   "outputs": [],
   "source": [
    "hello_world_component()"
   ]
  },
  {
   "cell_type": "code",
   "execution_count": 4,
   "id": "dbdef479-2d35-40f6-a94d-719d31de76fc",
   "metadata": {
    "tags": []
   },
   "outputs": [],
   "source": [
    "@dsl.pipeline(\n",
    "   name='Calculation pipeline',\n",
    "   description='A toy pipeline that performs arithmetic calculations.'\n",
    ")\n",
    "def calc_pipeline(\n",
    "   a: float =0,\n",
    "   b: float =7\n",
    "):\n",
    "    add_task = add_op(a, 4)\n",
    "    add_2_task = add_op(a, b)\n",
    "    add_3_task = add_op(add_task.output, add_2_task.output)"
   ]
  },
  {
   "cell_type": "code",
   "execution_count": 5,
   "id": "f0f6b2df-59ea-466f-b324-abb3d2469018",
   "metadata": {
    "tags": []
   },
   "outputs": [
    {
     "name": "stderr",
     "output_type": "stream",
     "text": [
      "Creating experiment lab1-add pipeline.\n"
     ]
    },
    {
     "data": {
      "text/html": [
       "<a href=\"/pipeline/#/experiments/details/bcd545c3-c87a-405b-b62b-9e80019c4e75\" target=\"_blank\" >Experiment details</a>."
      ],
      "text/plain": [
       "<IPython.core.display.HTML object>"
      ]
     },
     "metadata": {},
     "output_type": "display_data"
    },
    {
     "data": {
      "text/html": [
       "<a href=\"/pipeline/#/runs/details/3b7223a9-187b-4996-9310-a9493fa63e7a\" target=\"_blank\" >Run details</a>."
      ],
      "text/plain": [
       "<IPython.core.display.HTML object>"
      ]
     },
     "metadata": {},
     "output_type": "display_data"
    },
    {
     "data": {
      "text/plain": [
       "RunPipelineResult(run_id=3b7223a9-187b-4996-9310-a9493fa63e7a)"
      ]
     },
     "execution_count": 5,
     "metadata": {},
     "output_type": "execute_result"
    }
   ],
   "source": [
    "# arguments = {'a': '7', 'b': '8'}\n",
    "arguments={}\n",
    "EXPERIMENT_NAME = 'lab1-add pipeline'\n",
    "kfp.Client().create_run_from_pipeline_func(calc_pipeline, \n",
    "                                           arguments=arguments, \n",
    "                                           experiment_name=EXPERIMENT_NAME)"
   ]
  },
  {
   "cell_type": "code",
   "execution_count": null,
   "id": "6e786a36-9cb7-46bb-9c3e-ba3ac05b5a09",
   "metadata": {},
   "outputs": [],
   "source": []
  },
  {
   "cell_type": "code",
   "execution_count": null,
   "id": "208aa810-cba3-40b1-90a6-48a20a324ce5",
   "metadata": {},
   "outputs": [],
   "source": []
  }
 ],
 "metadata": {
  "kernelspec": {
   "display_name": "Python 3 (ipykernel)",
   "language": "python",
   "name": "python3"
  },
  "language_info": {
   "codemirror_mode": {
    "name": "ipython",
    "version": 3
   },
   "file_extension": ".py",
   "mimetype": "text/x-python",
   "name": "python",
   "nbconvert_exporter": "python",
   "pygments_lexer": "ipython3",
   "version": "3.11.6"
  }
 },
 "nbformat": 4,
 "nbformat_minor": 5
}
