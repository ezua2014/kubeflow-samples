{
 "cells": [
  {
   "cell_type": "markdown",
   "id": "cb14e2b5-40a3-4151-9656-ce96fc94ef7d",
   "metadata": {
    "tags": []
   },
   "source": [
    "####################################################\n",
    "## Create hello world component\n",
    "####################################################"
   ]
  },
  {
   "cell_type": "code",
   "execution_count": null,
   "id": "8fb1971a-a898-4104-b4ca-8eff14d6feea",
   "metadata": {
    "tags": []
   },
   "outputs": [],
   "source": [
    "!pip install kfp==1.8.22"
   ]
  },
  {
   "cell_type": "code",
   "execution_count": null,
   "id": "be0c3dd1-6a16-4f59-9852-b6246ff2f4f4",
   "metadata": {
    "tags": []
   },
   "outputs": [],
   "source": [
    "from kfp.components import create_component_from_func"
   ]
  },
  {
   "cell_type": "code",
   "execution_count": null,
   "id": "cefeee5b-9858-4bff-a8ea-64882c982635",
   "metadata": {
    "tags": []
   },
   "outputs": [],
   "source": [
    "@create_component_from_func\n",
    "def hello_world_component( ) -> str:\n",
    "    ret = \"Hello Wrold!!!\"\n",
    "    print(ret)\n",
    "    return ret"
   ]
  },
  {
   "cell_type": "code",
   "execution_count": null,
   "id": "b7e5c7a4-4699-48aa-b689-1279915e9deb",
   "metadata": {
    "tags": []
   },
   "outputs": [],
   "source": [
    "hello_world_component()"
   ]
  },
  {
   "cell_type": "code",
   "execution_count": null,
   "id": "3ffffda6-57d7-496a-a12b-61396fde3234",
   "metadata": {
    "tags": []
   },
   "outputs": [],
   "source": [
    "component_name = \"01_hello_world_component.yaml\"\n",
    "hello_world_component.component_spec.save(component_name)"
   ]
  },
  {
   "cell_type": "markdown",
   "id": "bba39612-1f82-47ff-bfbd-ee2bc4f59691",
   "metadata": {
    "tags": []
   },
   "source": [
    "####################################################\n",
    "## Create hello world Pipeline\n",
    "####################################################"
   ]
  },
  {
   "cell_type": "code",
   "execution_count": null,
   "id": "db872a93-14e3-4b99-88fa-fabb0da50993",
   "metadata": {
    "tags": []
   },
   "outputs": [],
   "source": [
    "import kfp"
   ]
  },
  {
   "cell_type": "code",
   "execution_count": null,
   "id": "b78e49ee-f71f-4855-a995-0593cac7a70f",
   "metadata": {
    "tags": []
   },
   "outputs": [],
   "source": [
    "@kfp.dsl.pipeline(name=\"hello_world_pipeline\", \n",
    "                  description=\"Hello World Pipeline\")\n",
    "def hello_world_pipeline():\n",
    "    hello_world_task = hello_world_component()"
   ]
  },
  {
   "cell_type": "code",
   "execution_count": null,
   "id": "0511507e-6d70-4778-98de-b7d7bc0559f8",
   "metadata": {
    "tags": []
   },
   "outputs": [],
   "source": [
    "kfp.compiler.Compiler().compile(hello_world_pipeline, \"hello_world_pipeline.zip\")"
   ]
  },
  {
   "cell_type": "code",
   "execution_count": null,
   "id": "4de94b6a-5a68-4205-9160-d07ff36b37a7",
   "metadata": {},
   "outputs": [],
   "source": []
  },
  {
   "cell_type": "code",
   "execution_count": null,
   "id": "90a76b6c-6c36-4a57-9e29-3b75679617cb",
   "metadata": {},
   "outputs": [],
   "source": []
  }
 ],
 "metadata": {
  "kernelspec": {
   "display_name": "Python 3 (ipykernel)",
   "language": "python",
   "name": "python3"
  },
  "language_info": {
   "codemirror_mode": {
    "name": "ipython",
    "version": 3
   },
   "file_extension": ".py",
   "mimetype": "text/x-python",
   "name": "python",
   "nbconvert_exporter": "python",
   "pygments_lexer": "ipython3",
   "version": "3.11.6"
  }
 },
 "nbformat": 4,
 "nbformat_minor": 5
}
